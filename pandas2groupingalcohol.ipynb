{
 "cells": [
  {
   "cell_type": "markdown",
   "metadata": {},
   "source": [
    "# Ex - GroupBy"
   ]
  },
  {
   "cell_type": "markdown",
   "metadata": {},
   "source": [
    "### Introduction:\n",
    "\n",
    "GroupBy can be summarized as Split-Apply-Combine.\n",
    "\n",
    "Special thanks to: https://github.com/justmarkham for sharing the dataset and materials.\n",
    "\n",
    "Check out this [Diagram](http://i.imgur.com/yjNkiwL.png)  \n",
    "### Step 1. Import the necessary libraries"
   ]
  },
  {
   "cell_type": "markdown",
   "metadata": {},
   "source": [
    "### Step 2. Import the dataset from this [address](https://raw.githubusercontent.com/justmarkham/DAT8/master/data/drinks.csv). "
   ]
  },
  {
   "cell_type": "markdown",
   "metadata": {},
   "source": [
    "### Step 3. Assign it to a variable called drinks."
   ]
  },
  {
   "cell_type": "markdown",
   "metadata": {},
   "source": [
    "### Step 4. Which continent drinks more beer on average?"
   ]
  },
  {
   "cell_type": "markdown",
   "metadata": {},
   "source": [
    "### Step 5. For each continent print the statistics for wine consumption."
   ]
  },
  {
   "cell_type": "markdown",
   "metadata": {},
   "source": [
    "### Step 6. Print the mean alcohol consumption per continent for every column"
   ]
  },
  {
   "cell_type": "markdown",
   "metadata": {},
   "source": [
    "### Step 7. Print the median alcohol consumption per continent for every column"
   ]
  },
  {
   "cell_type": "markdown",
   "metadata": {},
   "source": [
    "### Step 8. Print the mean, min and max values for spirit consumption.\n",
    "#### This time output a DataFrame"
   ]
  },
  {
   "cell_type": "code",
   "execution_count": 1,
   "metadata": {},
   "outputs": [
    {
     "name": "stdout",
     "output_type": "stream",
     "text": [
      "Step 4: Average beer consumption by continent:\n",
      " continent\n",
      "Africa            61.471698\n",
      "Asia              37.045455\n",
      "Europe           193.777778\n",
      "North America    145.434783\n",
      "Oceania           89.687500\n",
      "South America    175.083333\n",
      "Name: beer_servings, dtype: float64\n",
      "\n",
      "Continent that drinks the most beer on average: Europe\n",
      "Step 5: Wine consumption statistics by continent:\n",
      "                count        mean        std  min   25%    50%     75%    max\n",
      "continent                                                                   \n",
      "Africa          53.0   16.264151  38.846419  0.0   1.0    2.0   13.00  233.0\n",
      "Asia            44.0    9.068182  21.667034  0.0   0.0    1.0    8.00  123.0\n",
      "Europe          45.0  142.222222  97.421738  0.0  59.0  128.0  195.00  370.0\n",
      "North America   23.0   24.521739  28.266378  1.0   5.0   11.0   34.00  100.0\n",
      "Oceania         16.0   35.625000  64.555790  0.0   1.0    8.5   23.25  212.0\n",
      "South America   12.0   62.416667  88.620189  1.0   3.0   12.0   98.50  221.0\n"
     ]
    }
   ],
   "source": [
    "# Step 1: Import the necessary libraries\n",
    "import pandas as pd\n",
    "\n",
    "# Step 2: Import the dataset\n",
    "url = 'https://raw.githubusercontent.com/justmarkham/pandas-videos/master/data/drinks.csv'\n",
    "\n",
    "# Step 3: Assign it to a variable called drinks\n",
    "drinks = pd.read_csv(url)\n",
    "\n",
    "# Step 4: Which continent drinks more beer on average?\n",
    "beer_avg = drinks.groupby('continent')['beer_servings'].mean()\n",
    "print(\"Step 4: Average beer consumption by continent:\\n\", beer_avg)\n",
    "print(\"\\nContinent that drinks the most beer on average:\", beer_avg.idxmax())\n",
    "\n",
    "# Step 5: Statistics for wine consumption per continent\n",
    "wine_stats = drinks.groupby('continent')['wine_servings'].describe()\n",
    "print(\"Step 5: Wine consumption statistics by continent:\\n\", wine_stats)\n",
    "\n",
    "\n",
    "\n",
    "\n"
   ]
  },
  {
   "cell_type": "code",
   "execution_count": 2,
   "metadata": {},
   "outputs": [
    {
     "name": "stdout",
     "output_type": "stream",
     "text": [
      "Step 6: Mean alcohol consumption per continent:\n",
      "                beer_servings  spirit_servings  wine_servings  \\\n",
      "continent                                                      \n",
      "Africa             61.471698        16.339623      16.264151   \n",
      "Asia               37.045455        60.840909       9.068182   \n",
      "Europe            193.777778       132.555556     142.222222   \n",
      "North America     145.434783       165.739130      24.521739   \n",
      "Oceania            89.687500        58.437500      35.625000   \n",
      "South America     175.083333       114.750000      62.416667   \n",
      "\n",
      "               total_litres_of_pure_alcohol  \n",
      "continent                                    \n",
      "Africa                             3.007547  \n",
      "Asia                               2.170455  \n",
      "Europe                             8.617778  \n",
      "North America                      5.995652  \n",
      "Oceania                            3.381250  \n",
      "South America                      6.308333  \n"
     ]
    }
   ],
   "source": [
    "# Step 6: Mean alcohol consumption per continent for every column\n",
    "mean_consumption = drinks.groupby('continent').mean(numeric_only=True)\n",
    "print(\"Step 6: Mean alcohol consumption per continent:\\n\", mean_consumption)"
   ]
  },
  {
   "cell_type": "code",
   "execution_count": 3,
   "metadata": {},
   "outputs": [
    {
     "name": "stdout",
     "output_type": "stream",
     "text": [
      "\n",
      "Step 7: Median alcohol consumption per continent:\n",
      "                beer_servings  spirit_servings  wine_servings  \\\n",
      "continent                                                      \n",
      "Africa                  32.0              3.0            2.0   \n",
      "Asia                    17.5             16.0            1.0   \n",
      "Europe                 219.0            122.0          128.0   \n",
      "North America          143.0            137.0           11.0   \n",
      "Oceania                 52.5             37.0            8.5   \n",
      "South America          162.5            108.5           12.0   \n",
      "\n",
      "               total_litres_of_pure_alcohol  \n",
      "continent                                    \n",
      "Africa                                 2.30  \n",
      "Asia                                   1.20  \n",
      "Europe                                10.00  \n",
      "North America                          6.30  \n",
      "Oceania                                1.75  \n",
      "South America                          6.85  \n",
      "\n",
      "Step 8: Spirit consumption summary:\n",
      "                      mean  min  max\n",
      "continent                          \n",
      "Africa          16.339623    0  152\n",
      "Asia            60.840909    0  326\n",
      "Europe         132.555556    0  373\n",
      "North America  165.739130   68  438\n",
      "Oceania         58.437500    0  254\n",
      "South America  114.750000   25  302\n"
     ]
    }
   ],
   "source": [
    "# Step 7: Median alcohol consumption per continent for every column\n",
    "median_consumption = drinks.groupby('continent').median(numeric_only=True)\n",
    "print(\"\\nStep 7: Median alcohol consumption per continent:\\n\", median_consumption)\n",
    "\n",
    "# Step 8: Mean, min, and max values for spirit consumption\n",
    "spirit_summary = drinks.groupby('continent')['spirit_servings'].agg(['mean', 'min', 'max'])\n",
    "print(\"\\nStep 8: Spirit consumption summary:\\n\", spirit_summary)"
   ]
  }
 ],
 "metadata": {
  "kernelspec": {
   "display_name": "venv",
   "language": "python",
   "name": "python3"
  },
  "language_info": {
   "codemirror_mode": {
    "name": "ipython",
    "version": 3
   },
   "file_extension": ".py",
   "mimetype": "text/x-python",
   "name": "python",
   "nbconvert_exporter": "python",
   "pygments_lexer": "ipython3",
   "version": "3.13.3"
  }
 },
 "nbformat": 4,
 "nbformat_minor": 0
}
