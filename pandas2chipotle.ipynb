{
 "cells": [
  {
   "cell_type": "markdown",
   "metadata": {},
   "source": [
    "# Ex1 - Filtering and Sorting Data"
   ]
  },
  {
   "cell_type": "markdown",
   "metadata": {},
   "source": [
    "This time we are going to pull data directly from the internet.\n",
    "Special thanks to: https://github.com/justmarkham for sharing the dataset and materials.\n",
    "\n",
    "### Step 1. Import the necessary libraries"
   ]
  },
  {
   "cell_type": "code",
   "execution_count": 1,
   "metadata": {
    "collapsed": false
   },
   "outputs": [],
   "source": [
    "import pandas as pd"
   ]
  },
  {
   "cell_type": "markdown",
   "metadata": {},
   "source": [
    "### Step 2. Import the dataset from this [address](https://raw.githubusercontent.com/justmarkham/DAT8/master/data/chipotle.tsv). "
   ]
  },
  {
   "cell_type": "markdown",
   "metadata": {},
   "source": [
    "### Step 3. Assign it to a variable called chipo."
   ]
  },
  {
   "cell_type": "code",
   "execution_count": 2,
   "metadata": {
    "collapsed": false
   },
   "outputs": [],
   "source": [
    "# Step 2: Import the dataset from the web\n",
    "url = 'https://raw.githubusercontent.com/justmarkham/pandas-videos/master/data/chipotle.tsv'\n",
    "\n",
    "# Step 3: Assign it to a variable called chipo\n",
    "chipo = pd.read_csv(url, sep='\\t')"
   ]
  },
  {
   "cell_type": "markdown",
   "metadata": {},
   "source": [
    "### Step 4. How many products cost more than $10.00?"
   ]
  },
  {
   "cell_type": "code",
   "execution_count": 3,
   "metadata": {
    "collapsed": false
   },
   "outputs": [
    {
     "name": "stdout",
     "output_type": "stream",
     "text": [
      "Step 4: Number of unique products costing more than $10.00: 31\n"
     ]
    }
   ],
   "source": [
    "# Remove '$' and convert item_price to float\n",
    "chipo['item_price'] = chipo['item_price'].str.replace('$', '', regex=False).astype(float)\n",
    "costly_items = chipo[chipo['item_price'] > 10]\n",
    "num_costly_items = costly_items['item_name'].nunique()\n",
    "print(f\"Step 4: Number of unique products costing more than $10.00: {num_costly_items}\")\n"
   ]
  },
  {
   "cell_type": "markdown",
   "metadata": {},
   "source": [
    "### Step 5. What is the price of each item? \n",
    "###### print a data frame with only two columns item_name and item_price"
   ]
  },
  {
   "cell_type": "code",
   "execution_count": 4,
   "metadata": {
    "collapsed": false
   },
   "outputs": [
    {
     "name": "stdout",
     "output_type": "stream",
     "text": [
      "\n",
      "Step 5: Item name and item price:\n",
      "                               item_name  item_price\n",
      "0           Chips and Fresh Tomato Salsa        2.39\n",
      "1                                   Izze        3.39\n",
      "2                       Nantucket Nectar        3.39\n",
      "3  Chips and Tomatillo-Green Chili Salsa        2.39\n",
      "4                           Chicken Bowl       16.98\n"
     ]
    }
   ],
   "source": [
    "items_price = chipo[['item_name', 'item_price']]\n",
    "print(\"\\nStep 5: Item name and item price:\")\n",
    "print(items_price.drop_duplicates().head())"
   ]
  },
  {
   "cell_type": "markdown",
   "metadata": {},
   "source": [
    "### Step 6. Sort by the name of the item"
   ]
  },
  {
   "cell_type": "code",
   "execution_count": 5,
   "metadata": {
    "collapsed": false
   },
   "outputs": [
    {
     "name": "stdout",
     "output_type": "stream",
     "text": [
      "\n",
      "Step 6: Items sorted by name:\n",
      "              item_name  item_price\n",
      "3389  6 Pack Soft Drink       12.98\n",
      "298   6 Pack Soft Drink        6.49\n",
      "4510      Barbacoa Bowl       11.49\n",
      "3195      Barbacoa Bowl        8.69\n",
      "95        Barbacoa Bowl        9.25\n"
     ]
    }
   ],
   "source": [
    "sorted_items = items_price.drop_duplicates().sort_values(by='item_name')\n",
    "print(\"\\nStep 6: Items sorted by name:\")\n",
    "print(sorted_items.head())"
   ]
  },
  {
   "cell_type": "markdown",
   "metadata": {},
   "source": [
    "### Step 7. What was the quantity of the most expensive item ordered?"
   ]
  },
  {
   "cell_type": "code",
   "execution_count": 6,
   "metadata": {
    "collapsed": false
   },
   "outputs": [
    {
     "name": "stdout",
     "output_type": "stream",
     "text": [
      "\n",
      "Step 7: Quantity of the most expensive item ordered:\n",
      "Chips and Fresh Tomato Salsa - Quantity: 15 - Price: $44.25\n"
     ]
    }
   ],
   "source": [
    "most_expensive = chipo.sort_values(by='item_price', ascending=False).iloc[0]\n",
    "print(\"\\nStep 7: Quantity of the most expensive item ordered:\")\n",
    "print(f\"{most_expensive['item_name']} - Quantity: {most_expensive['quantity']} - Price: ${most_expensive['item_price']}\")\n"
   ]
  },
  {
   "cell_type": "markdown",
   "metadata": {},
   "source": [
    "### Step 8. How many times was a Veggie Salad Bowl ordered?"
   ]
  },
  {
   "cell_type": "code",
   "execution_count": 7,
   "metadata": {
    "collapsed": false
   },
   "outputs": [
    {
     "name": "stdout",
     "output_type": "stream",
     "text": [
      "\n",
      "Step 8: Veggie Salad Bowl was ordered 18 times.\n"
     ]
    }
   ],
   "source": [
    "veggie_salad_orders = chipo[chipo['item_name'] == 'Veggie Salad Bowl']['quantity'].sum()\n",
    "print(f\"\\nStep 8: Veggie Salad Bowl was ordered {veggie_salad_orders} times.\")\n"
   ]
  },
  {
   "cell_type": "markdown",
   "metadata": {},
   "source": [
    "### Step 9. How many times did someone order more than one Canned Soda?"
   ]
  },
  {
   "cell_type": "code",
   "execution_count": 8,
   "metadata": {
    "collapsed": false
   },
   "outputs": [
    {
     "name": "stdout",
     "output_type": "stream",
     "text": [
      "\n",
      "Step 9: Number of times more than one Canned Soda was ordered: 20\n"
     ]
    }
   ],
   "source": [
    "# Step 9: How many times did someone order more than one Canned Soda?\n",
    "canned_soda_orders = chipo[(chipo['item_name'] == 'Canned Soda') & (chipo['quantity'] > 1)]\n",
    "print(f\"\\nStep 9: Number of times more than one Canned Soda was ordered: {canned_soda_orders.shape[0]}\")"
   ]
  }
 ],
 "metadata": {
  "kernelspec": {
   "display_name": "venv",
   "language": "python",
   "name": "python3"
  },
  "language_info": {
   "codemirror_mode": {
    "name": "ipython",
    "version": 3
   },
   "file_extension": ".py",
   "mimetype": "text/x-python",
   "name": "python",
   "nbconvert_exporter": "python",
   "pygments_lexer": "ipython3",
   "version": "3.13.3"
  }
 },
 "nbformat": 4,
 "nbformat_minor": 0
}
