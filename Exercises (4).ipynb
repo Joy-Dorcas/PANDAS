{
 "cells": [
  {
   "cell_type": "markdown",
   "metadata": {},
   "source": [
    "# Wine"
   ]
  },
  {
   "cell_type": "markdown",
   "metadata": {},
   "source": [
    "### Introduction:\n",
    "\n",
    "This exercise is a adaptation from the UCI Wine dataset.\n",
    "The only pupose is to practice deleting data with pandas.\n",
    "\n",
    "### Step 1. Import the necessary libraries"
   ]
  },
  {
   "cell_type": "code",
   "execution_count": 1,
   "metadata": {
    "collapsed": false
   },
   "outputs": [
    {
     "name": "stdout",
     "output_type": "stream",
     "text": [
      "\n",
      "Missing values per column:\n",
      " alcohol              0\n",
      "malic_acid           0\n",
      "alcalinity_of_ash    0\n",
      "magnesium            0\n",
      "flavanoids           0\n",
      "proanthocyanins      0\n",
      "hue                  0\n",
      "dtype: int64\n",
      "\n",
      "Total missing values in dataset: 10\n",
      "\n",
      "Non-null alcohol values:\n",
      " 0      10.00\n",
      "1      10.00\n",
      "2      10.00\n",
      "3      14.37\n",
      "4      13.24\n",
      "       ...  \n",
      "172    14.16\n",
      "173    13.71\n",
      "175    13.27\n",
      "176    13.17\n",
      "177    14.13\n",
      "Name: alcohol, Length: 168, dtype: float64\n",
      "\n",
      "BONUS: Average Flavanoids = 2.03\n"
     ]
    },
    {
     "name": "stderr",
     "output_type": "stream",
     "text": [
      "C:\\Users\\USER\\AppData\\Local\\Temp\\ipykernel_20152\\3808829008.py:33: FutureWarning: A value is trying to be set on a copy of a DataFrame or Series through chained assignment using an inplace method.\n",
      "The behavior will change in pandas 3.0. This inplace method will never work because the intermediate object on which we are setting values always behaves as a copy.\n",
      "\n",
      "For example, when doing 'df[col].method(value, inplace=True)', try using 'df.method({col: value}, inplace=True)' or df[col] = df[col].method(value) instead, to perform the operation inplace on the original object.\n",
      "\n",
      "\n",
      "  wine['alcohol'].fillna(10, inplace=True)\n",
      "C:\\Users\\USER\\AppData\\Local\\Temp\\ipykernel_20152\\3808829008.py:34: FutureWarning: A value is trying to be set on a copy of a DataFrame or Series through chained assignment using an inplace method.\n",
      "The behavior will change in pandas 3.0. This inplace method will never work because the intermediate object on which we are setting values always behaves as a copy.\n",
      "\n",
      "For example, when doing 'df[col].method(value, inplace=True)', try using 'df.method({col: value}, inplace=True)' or df[col] = df[col].method(value) instead, to perform the operation inplace on the original object.\n",
      "\n",
      "\n",
      "  wine['magnesium'].fillna(100, inplace=True)\n"
     ]
    }
   ],
   "source": [
    "# Step 1. Import the necessary libraries\n",
    "import pandas as pd\n",
    "import numpy as np\n",
    "\n",
    "# Step 2. Import the dataset\n",
    "url = 'https://archive.ics.uci.edu/ml/machine-learning-databases/wine/wine.data'\n",
    "\n",
    "# Step 3. Assign it to a variable called wine\n",
    "wine = pd.read_csv(url, header=None)\n",
    "\n",
    "# Step 4. Delete the first, fourth, seventh, ninth, eleventh, thirteenth and fourteenth columns\n",
    "cols_to_drop = [0, 3, 6, 8, 10, 12, 13]\n",
    "wine.drop(columns=cols_to_drop, inplace=True)\n",
    "\n",
    "# Step 5. Assign the columns as:\n",
    "wine.columns = [\n",
    "    'alcohol',\n",
    "    'malic_acid',\n",
    "    'alcalinity_of_ash',\n",
    "    'magnesium',\n",
    "    'flavanoids',\n",
    "    'proanthocyanins',\n",
    "    'hue'\n",
    "]\n",
    "\n",
    "# Step 6. Set the values of the first 3 rows from alcohol as NaN\n",
    "wine.loc[0:2, 'alcohol'] = np.nan\n",
    "\n",
    "# Step 7. Set the values of rows 3 and 4 of magnesium as NaN\n",
    "wine.loc[3:4, 'magnesium'] = np.nan\n",
    "\n",
    "# Step 8. Fill NaN in alcohol with 10, and in magnesium with 100\n",
    "wine['alcohol'].fillna(10, inplace=True)\n",
    "wine['magnesium'].fillna(100, inplace=True)\n",
    "\n",
    "# Step 9. Count the number of missing values\n",
    "print(\"\\nMissing values per column:\\n\", wine.isnull().sum())\n",
    "\n",
    "# Step 10. Create an array of 10 random integers up to 10 (for indexing)\n",
    "rand_indices = np.random.randint(0, len(wine), size=10)\n",
    "\n",
    "# Step 11. Use random indices to set one value to NaN in each row (e.g., in 'hue')\n",
    "for i in rand_indices:\n",
    "    wine.loc[i, 'hue'] = np.nan\n",
    "\n",
    "# Step 12. How many missing values now?\n",
    "print(\"\\nTotal missing values in dataset:\", wine.isnull().sum().sum())\n",
    "\n",
    "# Step 13. Delete the rows that contain missing values\n",
    "wine.dropna(inplace=True)\n",
    "\n",
    "# Step 14. Print only the non-null values in alcohol\n",
    "print(\"\\nNon-null alcohol values:\\n\", wine['alcohol'].dropna())\n",
    "\n",
    "# Step 15. Reset the index so it starts with 0\n",
    "wine.reset_index(drop=True, inplace=True)\n",
    "\n",
    "# BONUS: What is the average flavanoids content after cleaning?\n",
    "avg_flavanoids = wine['flavanoids'].mean()\n",
    "print(f\"\\nBONUS: Average Flavanoids = {avg_flavanoids:.2f}\")\n"
   ]
  },
  {
   "cell_type": "markdown",
   "metadata": {},
   "source": [
    "### Step 2. Import the dataset from this [address](https://archive.ics.uci.edu/ml/machine-learning-databases/wine/wine.data). "
   ]
  },
  {
   "cell_type": "markdown",
   "metadata": {},
   "source": [
    "### Step 3. Assign it to a variable called wine"
   ]
  },
  {
   "cell_type": "code",
   "execution_count": null,
   "metadata": {
    "collapsed": false
   },
   "outputs": [],
   "source": []
  },
  {
   "cell_type": "markdown",
   "metadata": {},
   "source": [
    "### Step 4. Delete the first, fourth, seventh, nineth, eleventh, thirteenth and fourteenth columns"
   ]
  },
  {
   "cell_type": "code",
   "execution_count": null,
   "metadata": {
    "collapsed": false
   },
   "outputs": [],
   "source": []
  },
  {
   "cell_type": "markdown",
   "metadata": {},
   "source": [
    "### Step 5. Assign the columns as below:\n",
    "\n",
    "The attributes are (donated by Riccardo Leardi, riclea '@' anchem.unige.it):  \n",
    "1) alcohol  \n",
    "2) malic_acid  \n",
    "3) alcalinity_of_ash  \n",
    "4) magnesium  \n",
    "5) flavanoids  \n",
    "6) proanthocyanins  \n",
    "7) hue "
   ]
  },
  {
   "cell_type": "code",
   "execution_count": null,
   "metadata": {
    "collapsed": false
   },
   "outputs": [],
   "source": []
  },
  {
   "cell_type": "markdown",
   "metadata": {},
   "source": [
    "### Step 6. Set the values of the first 3 rows from alcohol as NaN"
   ]
  },
  {
   "cell_type": "code",
   "execution_count": null,
   "metadata": {
    "collapsed": false
   },
   "outputs": [],
   "source": []
  },
  {
   "cell_type": "markdown",
   "metadata": {},
   "source": [
    "### Step 7. Now set the value of the rows 3 and 4 of magnesium as NaN"
   ]
  },
  {
   "cell_type": "code",
   "execution_count": null,
   "metadata": {
    "collapsed": false
   },
   "outputs": [],
   "source": []
  },
  {
   "cell_type": "markdown",
   "metadata": {},
   "source": [
    "### Step 8. Fill the value of NaN with the number 10 in alcohol and 100 in magnesium"
   ]
  },
  {
   "cell_type": "code",
   "execution_count": null,
   "metadata": {
    "collapsed": false
   },
   "outputs": [],
   "source": []
  },
  {
   "cell_type": "markdown",
   "metadata": {},
   "source": [
    "### Step 9. Count the number of missing values"
   ]
  },
  {
   "cell_type": "code",
   "execution_count": null,
   "metadata": {
    "collapsed": false
   },
   "outputs": [],
   "source": []
  },
  {
   "cell_type": "markdown",
   "metadata": {},
   "source": [
    "### Step 10.  Create an array of 10 random numbers up until 10"
   ]
  },
  {
   "cell_type": "code",
   "execution_count": null,
   "metadata": {
    "collapsed": false
   },
   "outputs": [],
   "source": []
  },
  {
   "cell_type": "markdown",
   "metadata": {},
   "source": [
    "### Step 11.  Use random numbers you generated as an index and assign NaN value to each of cell."
   ]
  },
  {
   "cell_type": "code",
   "execution_count": null,
   "metadata": {
    "collapsed": false
   },
   "outputs": [],
   "source": []
  },
  {
   "cell_type": "markdown",
   "metadata": {},
   "source": [
    "### Step 12.  How many missing values do we have?"
   ]
  },
  {
   "cell_type": "code",
   "execution_count": null,
   "metadata": {
    "collapsed": false
   },
   "outputs": [],
   "source": []
  },
  {
   "cell_type": "markdown",
   "metadata": {},
   "source": [
    "### Step 13. Delete the rows that contain missing values"
   ]
  },
  {
   "cell_type": "code",
   "execution_count": null,
   "metadata": {
    "collapsed": false
   },
   "outputs": [],
   "source": []
  },
  {
   "cell_type": "markdown",
   "metadata": {},
   "source": [
    "### Step 14. Print only the non-null values in alcohol"
   ]
  },
  {
   "cell_type": "code",
   "execution_count": null,
   "metadata": {
    "collapsed": false
   },
   "outputs": [],
   "source": []
  },
  {
   "cell_type": "code",
   "execution_count": null,
   "metadata": {
    "collapsed": true
   },
   "outputs": [],
   "source": []
  },
  {
   "cell_type": "markdown",
   "metadata": {},
   "source": [
    "### Step 15.  Reset the index, so it starts with 0 again"
   ]
  },
  {
   "cell_type": "code",
   "execution_count": null,
   "metadata": {
    "collapsed": false
   },
   "outputs": [],
   "source": []
  },
  {
   "cell_type": "markdown",
   "metadata": {},
   "source": [
    "### BONUS: Create your own question and answer it."
   ]
  },
  {
   "cell_type": "code",
   "execution_count": null,
   "metadata": {
    "collapsed": true
   },
   "outputs": [],
   "source": []
  }
 ],
 "metadata": {
  "kernelspec": {
   "display_name": ".venv",
   "language": "python",
   "name": "python3"
  },
  "language_info": {
   "codemirror_mode": {
    "name": "ipython",
    "version": 3
   },
   "file_extension": ".py",
   "mimetype": "text/x-python",
   "name": "python",
   "nbconvert_exporter": "python",
   "pygments_lexer": "ipython3",
   "version": "3.13.3"
  }
 },
 "nbformat": 4,
 "nbformat_minor": 0
}
