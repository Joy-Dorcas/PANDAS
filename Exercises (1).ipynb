{
 "cells": [
  {
   "cell_type": "markdown",
   "metadata": {},
   "source": [
    "# Getting Financial Data - Google Finance"
   ]
  },
  {
   "cell_type": "markdown",
   "metadata": {},
   "source": [
    "### Introduction:\n",
    "\n",
    "This time you will get data from a website.\n",
    "\n",
    "\n",
    "### Step 1. Import the necessary libraries"
   ]
  },
  {
   "cell_type": "markdown",
   "metadata": {},
   "source": [
    "### Step 2. Create your time range (start and end variables). The start date should be 01/01/2015 and the end should today (whatever your today is)"
   ]
  },
  {
   "cell_type": "markdown",
   "metadata": {},
   "source": [
    "### Step 3. Select the Apple, Tesla, Twitter, IBM, LinkedIn stocks symbols and assign them to a variable called stocks"
   ]
  },
  {
   "cell_type": "markdown",
   "metadata": {},
   "source": [
    "### Step 4. Read the data from google, assign to df and print it"
   ]
  },
  {
   "cell_type": "markdown",
   "metadata": {},
   "source": [
    "### Step 5.  What is the type of structure of df ?"
   ]
  },
  {
   "cell_type": "markdown",
   "metadata": {},
   "source": [
    "### Step 6. Print all the Items axis values\n",
    "#### To learn more about the Panel structure go to [documentation](http://pandas.pydata.org/pandas-docs/stable/dsintro.html#panel) "
   ]
  },
  {
   "cell_type": "markdown",
   "metadata": {},
   "source": [
    "### Step 7. Good, now we know  the data avaiable. Create a dataFrame called vol, with the Volume values."
   ]
  },
  {
   "cell_type": "markdown",
   "metadata": {},
   "source": [
    "### Step 8. Aggregate the data of Volume to weekly\n",
    "#### Hint: Be careful to not sum data from the same week of 2015 and other years."
   ]
  },
  {
   "cell_type": "markdown",
   "metadata": {},
   "source": [
    "### Step 9. Find all the volume traded in the year of 2015"
   ]
  },
  {
   "cell_type": "markdown",
   "metadata": {},
   "source": [
    "### BONUS: Create your own question and answer it."
   ]
  },
  {
   "cell_type": "code",
   "execution_count": 2,
   "metadata": {
    "collapsed": true
   },
   "outputs": [
    {
     "name": "stderr",
     "output_type": "stream",
     "text": [
      "C:\\Users\\USER\\AppData\\Local\\Temp\\ipykernel_22912\\1222644827.py:14: FutureWarning: YF.download() has changed argument auto_adjust default to True\n",
      "  df = yf.download(stocks, start=start, end=end)\n",
      "[*********************100%***********************]  5 of 5 completed\n",
      "\n",
      "1 Failed download:\n",
      "['LNKD']: YFPricesMissingError('possibly delisted; no price data found  (1d 2015-01-01 -> 2025-08-05)')\n"
     ]
    },
    {
     "name": "stdout",
     "output_type": "stream",
     "text": [
      "Price      Adj Close      Close                                       High  \\\n",
      "Ticker          LNKD       AAPL        IBM LNKD       TSLA TWTR       AAPL   \n",
      "Date                                                                         \n",
      "2015-01-02       NaN  24.288580  99.331154  NaN  14.620667  NaN  24.757334   \n",
      "2015-01-05       NaN  23.604330  97.768158  NaN  14.006000  NaN  24.137511   \n",
      "2015-01-06       NaN  23.606556  95.659691  NaN  14.085333  NaN  23.866481   \n",
      "2015-01-07       NaN  23.937565  95.034523  NaN  14.063333  NaN  24.037535   \n",
      "2015-01-08       NaN  24.857307  97.100105  NaN  14.041333  NaN  24.915069   \n",
      "\n",
      "Price                                   ...       Open                  \\\n",
      "Ticker             IBM LNKD       TSLA  ...       AAPL        IBM LNKD   \n",
      "Date                                    ...                              \n",
      "2015-01-02  100.097320  NaN  14.883333  ...  24.746226  98.871462  NaN   \n",
      "2015-01-05   98.846912  NaN  14.433333  ...  24.057533  98.846912  NaN   \n",
      "2015-01-06   98.043984  NaN  14.280000  ...  23.668760  97.866231  NaN   \n",
      "2015-01-07   96.352319  NaN  14.318667  ...  23.815377  96.352319  NaN   \n",
      "2015-01-08   97.480117  NaN  14.253333  ...  24.266367  95.763917  NaN   \n",
      "\n",
      "Price                          Volume                               \n",
      "Ticker           TSLA TWTR       AAPL      IBM LNKD      TSLA TWTR  \n",
      "Date                                                                \n",
      "2015-01-02  14.858000  NaN  212818400  5779673  NaN  71466000  NaN  \n",
      "2015-01-05  14.303333  NaN  257142000  5104898  NaN  80527500  NaN  \n",
      "2015-01-06  14.004000  NaN  263188400  6429448  NaN  93928500  NaN  \n",
      "2015-01-07  14.223333  NaN  160423600  4918083  NaN  44526000  NaN  \n",
      "2015-01-08  14.187333  NaN  237458000  4431693  NaN  51637500  NaN  \n",
      "\n",
      "[5 rows x 26 columns]\n",
      "\n",
      "Type of df: <class 'pandas.core.frame.DataFrame'>\n",
      "\n",
      "Items (columns):\n",
      " MultiIndex([('Adj Close', 'LNKD'),\n",
      "            (    'Close', 'AAPL'),\n",
      "            (    'Close',  'IBM'),\n",
      "            (    'Close', 'LNKD'),\n",
      "            (    'Close', 'TSLA'),\n",
      "            (    'Close', 'TWTR'),\n",
      "            (     'High', 'AAPL'),\n",
      "            (     'High',  'IBM'),\n",
      "            (     'High', 'LNKD'),\n",
      "            (     'High', 'TSLA'),\n",
      "            (     'High', 'TWTR'),\n",
      "            (      'Low', 'AAPL'),\n",
      "            (      'Low',  'IBM'),\n",
      "            (      'Low', 'LNKD'),\n",
      "            (      'Low', 'TSLA'),\n",
      "            (      'Low', 'TWTR'),\n",
      "            (     'Open', 'AAPL'),\n",
      "            (     'Open',  'IBM'),\n",
      "            (     'Open', 'LNKD'),\n",
      "            (     'Open', 'TSLA'),\n",
      "            (     'Open', 'TWTR'),\n",
      "            (   'Volume', 'AAPL'),\n",
      "            (   'Volume',  'IBM'),\n",
      "            (   'Volume', 'LNKD'),\n",
      "            (   'Volume', 'TSLA'),\n",
      "            (   'Volume', 'TWTR')],\n",
      "           names=['Price', 'Ticker'])\n"
     ]
    }
   ],
   "source": [
    "# Step 1. Import the necessary libraries\n",
    "import yfinance as yf\n",
    "import pandas as pd\n",
    "import datetime\n",
    "\n",
    "# Step 2. Create your time range\n",
    "start = '2015-01-01'\n",
    "end = datetime.datetime.today().strftime('%Y-%m-%d')\n",
    "\n",
    "# Step 3. Define the stock symbols\n",
    "stocks = ['AAPL', 'TSLA', 'TWTR', 'IBM', 'LNKD']\n",
    "\n",
    "# Step 4. Read the data from Yahoo (substitute for Google), assign to df and print it\n",
    "df = yf.download(stocks, start=start, end=end)\n",
    "print(df.head())\n",
    "\n",
    "# Step 5. What is the type of structure of df?\n",
    "print(\"\\nType of df:\", type(df))\n",
    "\n",
    "# Step 6. Print all the Items axis values (multi-level columns)\n",
    "print(\"\\nItems (columns):\\n\", df.columns)\n",
    "\n",
    "\n"
   ]
  },
  {
   "cell_type": "code",
   "execution_count": 4,
   "metadata": {},
   "outputs": [
    {
     "name": "stdout",
     "output_type": "stream",
     "text": [
      "\n",
      "Volume data sample:\n",
      " Ticker           AAPL      IBM  LNKD      TSLA  TWTR\n",
      "Date                                                \n",
      "2015-01-02  212818400  5779673   NaN  71466000   NaN\n",
      "2015-01-05  257142000  5104898   NaN  80527500   NaN\n",
      "2015-01-06  263188400  6429448   NaN  93928500   NaN\n",
      "2015-01-07  160423600  4918083   NaN  44526000   NaN\n",
      "2015-01-08  237458000  4431693   NaN  51637500   NaN\n",
      "\n",
      "Weekly aggregated volume:\n",
      " Ticker            AAPL       IBM  LNKD       TSLA  TWTR\n",
      "Date                                                   \n",
      "2015-01-04   212818400   5779673   0.0   71466000   0.0\n",
      "2015-01-11  1133010000  25578884   0.0  340644000   0.0\n",
      "2015-01-18  1216906400  24329751   0.0  461988000   0.0\n",
      "2015-01-25   794948000  32682062   0.0  243175500   0.0\n",
      "2015-02-01  1863370800  34442689   0.0  235803000   0.0\n"
     ]
    }
   ],
   "source": [
    "# Step 7. Create a DataFrame called vol, with only the Volume values\n",
    "vol = df['Volume']\n",
    "print(\"\\nVolume data sample:\\n\", vol.head())\n",
    "\n",
    "# Step 8. Aggregate the Volume data to weekly\n",
    "# We'll use .resample('W') on the index and make sure each stock is treated separately\n",
    "weekly_vol = vol.resample('W').sum()\n",
    "print(\"\\nWeekly aggregated volume:\\n\", weekly_vol.head())\n",
    "\n"
   ]
  },
  {
   "cell_type": "code",
   "execution_count": 6,
   "metadata": {},
   "outputs": [
    {
     "ename": "KeyError",
     "evalue": "'2015'",
     "output_type": "error",
     "traceback": [
      "\u001b[31m---------------------------------------------------------------------------\u001b[39m",
      "\u001b[31mKeyError\u001b[39m                                  Traceback (most recent call last)",
      "\u001b[36mFile \u001b[39m\u001b[32mc:\\Users\\USER\\OneDrive\\Desktop\\pandas week\\.venv\\Lib\\site-packages\\pandas\\core\\indexes\\base.py:3812\u001b[39m, in \u001b[36mIndex.get_loc\u001b[39m\u001b[34m(self, key)\u001b[39m\n\u001b[32m   3811\u001b[39m \u001b[38;5;28;01mtry\u001b[39;00m:\n\u001b[32m-> \u001b[39m\u001b[32m3812\u001b[39m     \u001b[38;5;28;01mreturn\u001b[39;00m \u001b[38;5;28;43mself\u001b[39;49m\u001b[43m.\u001b[49m\u001b[43m_engine\u001b[49m\u001b[43m.\u001b[49m\u001b[43mget_loc\u001b[49m\u001b[43m(\u001b[49m\u001b[43mcasted_key\u001b[49m\u001b[43m)\u001b[49m\n\u001b[32m   3813\u001b[39m \u001b[38;5;28;01mexcept\u001b[39;00m \u001b[38;5;167;01mKeyError\u001b[39;00m \u001b[38;5;28;01mas\u001b[39;00m err:\n",
      "\u001b[36mFile \u001b[39m\u001b[32mpandas/_libs/index.pyx:167\u001b[39m, in \u001b[36mpandas._libs.index.IndexEngine.get_loc\u001b[39m\u001b[34m()\u001b[39m\n",
      "\u001b[36mFile \u001b[39m\u001b[32mpandas/_libs/index.pyx:196\u001b[39m, in \u001b[36mpandas._libs.index.IndexEngine.get_loc\u001b[39m\u001b[34m()\u001b[39m\n",
      "\u001b[36mFile \u001b[39m\u001b[32mpandas/_libs/hashtable_class_helper.pxi:7088\u001b[39m, in \u001b[36mpandas._libs.hashtable.PyObjectHashTable.get_item\u001b[39m\u001b[34m()\u001b[39m\n",
      "\u001b[36mFile \u001b[39m\u001b[32mpandas/_libs/hashtable_class_helper.pxi:7096\u001b[39m, in \u001b[36mpandas._libs.hashtable.PyObjectHashTable.get_item\u001b[39m\u001b[34m()\u001b[39m\n",
      "\u001b[31mKeyError\u001b[39m: '2015'",
      "\nThe above exception was the direct cause of the following exception:\n",
      "\u001b[31mKeyError\u001b[39m                                  Traceback (most recent call last)",
      "\u001b[36mCell\u001b[39m\u001b[36m \u001b[39m\u001b[32mIn[6]\u001b[39m\u001b[32m, line 2\u001b[39m\n\u001b[32m      1\u001b[39m \u001b[38;5;66;03m# Step 9. Find all the volume traded in the year of 2015\u001b[39;00m\n\u001b[32m----> \u001b[39m\u001b[32m2\u001b[39m vol_2015 = \u001b[43mvol\u001b[49m\u001b[43m[\u001b[49m\u001b[33;43m'\u001b[39;49m\u001b[33;43m2015\u001b[39;49m\u001b[33;43m'\u001b[39;49m\u001b[43m]\u001b[49m\n\u001b[32m      3\u001b[39m total_volume_2015 = vol_2015.sum()\n\u001b[32m      4\u001b[39m \u001b[38;5;28mprint\u001b[39m(\u001b[33m\"\u001b[39m\u001b[38;5;130;01m\\n\u001b[39;00m\u001b[33mTotal volume traded in 2015:\u001b[39m\u001b[38;5;130;01m\\n\u001b[39;00m\u001b[33m\"\u001b[39m, total_volume_2015)\n",
      "\u001b[36mFile \u001b[39m\u001b[32mc:\\Users\\USER\\OneDrive\\Desktop\\pandas week\\.venv\\Lib\\site-packages\\pandas\\core\\frame.py:4107\u001b[39m, in \u001b[36mDataFrame.__getitem__\u001b[39m\u001b[34m(self, key)\u001b[39m\n\u001b[32m   4105\u001b[39m \u001b[38;5;28;01mif\u001b[39;00m \u001b[38;5;28mself\u001b[39m.columns.nlevels > \u001b[32m1\u001b[39m:\n\u001b[32m   4106\u001b[39m     \u001b[38;5;28;01mreturn\u001b[39;00m \u001b[38;5;28mself\u001b[39m._getitem_multilevel(key)\n\u001b[32m-> \u001b[39m\u001b[32m4107\u001b[39m indexer = \u001b[38;5;28;43mself\u001b[39;49m\u001b[43m.\u001b[49m\u001b[43mcolumns\u001b[49m\u001b[43m.\u001b[49m\u001b[43mget_loc\u001b[49m\u001b[43m(\u001b[49m\u001b[43mkey\u001b[49m\u001b[43m)\u001b[49m\n\u001b[32m   4108\u001b[39m \u001b[38;5;28;01mif\u001b[39;00m is_integer(indexer):\n\u001b[32m   4109\u001b[39m     indexer = [indexer]\n",
      "\u001b[36mFile \u001b[39m\u001b[32mc:\\Users\\USER\\OneDrive\\Desktop\\pandas week\\.venv\\Lib\\site-packages\\pandas\\core\\indexes\\base.py:3819\u001b[39m, in \u001b[36mIndex.get_loc\u001b[39m\u001b[34m(self, key)\u001b[39m\n\u001b[32m   3814\u001b[39m     \u001b[38;5;28;01mif\u001b[39;00m \u001b[38;5;28misinstance\u001b[39m(casted_key, \u001b[38;5;28mslice\u001b[39m) \u001b[38;5;129;01mor\u001b[39;00m (\n\u001b[32m   3815\u001b[39m         \u001b[38;5;28misinstance\u001b[39m(casted_key, abc.Iterable)\n\u001b[32m   3816\u001b[39m         \u001b[38;5;129;01mand\u001b[39;00m \u001b[38;5;28many\u001b[39m(\u001b[38;5;28misinstance\u001b[39m(x, \u001b[38;5;28mslice\u001b[39m) \u001b[38;5;28;01mfor\u001b[39;00m x \u001b[38;5;129;01min\u001b[39;00m casted_key)\n\u001b[32m   3817\u001b[39m     ):\n\u001b[32m   3818\u001b[39m         \u001b[38;5;28;01mraise\u001b[39;00m InvalidIndexError(key)\n\u001b[32m-> \u001b[39m\u001b[32m3819\u001b[39m     \u001b[38;5;28;01mraise\u001b[39;00m \u001b[38;5;167;01mKeyError\u001b[39;00m(key) \u001b[38;5;28;01mfrom\u001b[39;00m\u001b[38;5;250m \u001b[39m\u001b[34;01merr\u001b[39;00m\n\u001b[32m   3820\u001b[39m \u001b[38;5;28;01mexcept\u001b[39;00m \u001b[38;5;167;01mTypeError\u001b[39;00m:\n\u001b[32m   3821\u001b[39m     \u001b[38;5;66;03m# If we have a listlike key, _check_indexing_error will raise\u001b[39;00m\n\u001b[32m   3822\u001b[39m     \u001b[38;5;66;03m#  InvalidIndexError. Otherwise we fall through and re-raise\u001b[39;00m\n\u001b[32m   3823\u001b[39m     \u001b[38;5;66;03m#  the TypeError.\u001b[39;00m\n\u001b[32m   3824\u001b[39m     \u001b[38;5;28mself\u001b[39m._check_indexing_error(key)\n",
      "\u001b[31mKeyError\u001b[39m: '2015'"
     ]
    }
   ],
   "source": [
    "# Step 9. Find all the volume traded in the year of 2015\n",
    "vol_2015 = vol['2015']\n",
    "total_volume_2015 = vol_2015.sum()\n",
    "print(\"\\nTotal volume traded in 2015:\\n\", total_volume_2015)"
   ]
  }
 ],
 "metadata": {
  "kernelspec": {
   "display_name": ".venv",
   "language": "python",
   "name": "python3"
  },
  "language_info": {
   "codemirror_mode": {
    "name": "ipython",
    "version": 3
   },
   "file_extension": ".py",
   "mimetype": "text/x-python",
   "name": "python",
   "nbconvert_exporter": "python",
   "pygments_lexer": "ipython3",
   "version": "3.13.3"
  }
 },
 "nbformat": 4,
 "nbformat_minor": 0
}
