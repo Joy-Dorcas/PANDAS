{
 "cells": [
  {
   "cell_type": "markdown",
   "metadata": {},
   "source": [
    "# Regiment"
   ]
  },
  {
   "cell_type": "markdown",
   "metadata": {},
   "source": [
    "### Introduction:\n",
    "\n",
    "Special thanks to: http://chrisalbon.com/ for sharing the dataset and materials.\n",
    "\n",
    "### Step 1. Import the necessary libraries"
   ]
  },
  {
   "cell_type": "markdown",
   "metadata": {},
   "source": [
    "### Step 2. Create the DataFrame with the following values:"
   ]
  },
  {
   "cell_type": "code",
   "execution_count": 51,
   "metadata": {
    "collapsed": true
   },
   "outputs": [],
   "source": [
    "raw_data = {'regiment': ['Nighthawks', 'Nighthawks', 'Nighthawks', 'Nighthawks', 'Dragoons', 'Dragoons', 'Dragoons', 'Dragoons', 'Scouts', 'Scouts', 'Scouts', 'Scouts'], \n",
    "        'company': ['1st', '1st', '2nd', '2nd', '1st', '1st', '2nd', '2nd','1st', '1st', '2nd', '2nd'], \n",
    "        'name': ['Miller', 'Jacobson', 'Ali', 'Milner', 'Cooze', 'Jacon', 'Ryaner', 'Sone', 'Sloan', 'Piger', 'Riani', 'Ali'], \n",
    "        'preTestScore': [4, 24, 31, 2, 3, 4, 24, 31, 2, 3, 2, 3],\n",
    "        'postTestScore': [25, 94, 57, 62, 70, 25, 94, 57, 62, 70, 62, 70]}"
   ]
  },
  {
   "cell_type": "markdown",
   "metadata": {},
   "source": [
    "### Step 3. Assign it to a variable called regiment.\n",
    "#### Don't forget to name each column"
   ]
  },
  {
   "cell_type": "markdown",
   "metadata": {},
   "source": [
    "### Step 4. What is the mean preTestScore from the regiment Nighthawks?  "
   ]
  },
  {
   "cell_type": "markdown",
   "metadata": {},
   "source": [
    "### Step 5. Present general statistics by company"
   ]
  },
  {
   "cell_type": "markdown",
   "metadata": {},
   "source": [
    "### Step 6. What is the mean of each company's preTestScore?"
   ]
  },
  {
   "cell_type": "markdown",
   "metadata": {},
   "source": [
    "### Step 7. Present the mean preTestScores grouped by regiment and company"
   ]
  },
  {
   "cell_type": "markdown",
   "metadata": {},
   "source": [
    "### Step 8. Present the mean preTestScores grouped by regiment and company without heirarchical indexing"
   ]
  },
  {
   "cell_type": "markdown",
   "metadata": {},
   "source": [
    "### Step 9. Group the entire dataframe by regiment and company"
   ]
  },
  {
   "cell_type": "markdown",
   "metadata": {},
   "source": [
    "### Step 10. What is the number of observations in each regiment and company"
   ]
  },
  {
   "cell_type": "markdown",
   "metadata": {},
   "source": [
    "### Step 11. Iterate over a group and print the name and the whole data from the regiment"
   ]
  },
  {
   "cell_type": "code",
   "execution_count": 27,
   "metadata": {},
   "outputs": [
    {
     "name": "stdout",
     "output_type": "stream",
     "text": [
      "Mean preTestScore for Nighthawks: 15.25\n",
      "\n",
      "General statistics by company:\n",
      "        preTestScore                                                      \\\n",
      "               count       mean        std  min   25%   50%    75%   max   \n",
      "company                                                                    \n",
      "1st              6.0   6.666667   8.524475  2.0  3.00   3.5   4.00  24.0   \n",
      "2nd              6.0  15.500000  14.652645  2.0  2.25  13.5  29.25  31.0   \n",
      "\n",
      "        postTestScore                                                       \n",
      "                count       mean        std   min    25%   50%   75%   max  \n",
      "company                                                                     \n",
      "1st               6.0  57.666667  27.485754  25.0  34.25  66.0  70.0  94.0  \n",
      "2nd               6.0  67.000000  14.057027  57.0  58.25  62.0  68.0  94.0  \n",
      "\n",
      "Mean preTestScore by company:\n",
      "company\n",
      "1st     6.666667\n",
      "2nd    15.500000\n",
      "Name: preTestScore, dtype: float64\n",
      "\n",
      "Mean preTestScore grouped by regiment and company:\n",
      "regiment    company\n",
      "Dragoons    1st         3.5\n",
      "            2nd        27.5\n",
      "Nighthawks  1st        14.0\n",
      "            2nd        16.5\n",
      "Scouts      1st         2.5\n",
      "            2nd         2.5\n",
      "Name: preTestScore, dtype: float64\n",
      "\n",
      "Mean preTestScore grouped (no hierarchical index):\n",
      "     regiment company  preTestScore\n",
      "0    Dragoons     1st           3.5\n",
      "1    Dragoons     2nd          27.5\n",
      "2  Nighthawks     1st          14.0\n",
      "3  Nighthawks     2nd          16.5\n",
      "4      Scouts     1st           2.5\n",
      "5      Scouts     2nd           2.5\n",
      "\n",
      "Number of observations in each group:\n",
      "regiment    company\n",
      "Dragoons    1st        2\n",
      "            2nd        2\n",
      "Nighthawks  1st        2\n",
      "            2nd        2\n",
      "Scouts      1st        2\n",
      "            2nd        2\n",
      "dtype: int64\n",
      "\n",
      "Iterating over groups by regiment:\n",
      "\n",
      "Regiment: Dragoons\n",
      "   regiment company    name  preTestScore  postTestScore\n",
      "4  Dragoons     1st   Cooze             3             70\n",
      "5  Dragoons     1st   Jacon             4             25\n",
      "6  Dragoons     2nd  Ryaner            24             94\n",
      "7  Dragoons     2nd    Sone            31             57\n",
      "\n",
      "Regiment: Nighthawks\n",
      "     regiment company      name  preTestScore  postTestScore\n",
      "0  Nighthawks     1st    Miller             4             25\n",
      "1  Nighthawks     1st  Jacobson            24             94\n",
      "2  Nighthawks     2nd       Ali            31             57\n",
      "3  Nighthawks     2nd    Milner             2             62\n",
      "\n",
      "Regiment: Scouts\n",
      "   regiment company   name  preTestScore  postTestScore\n",
      "8    Scouts     1st  Sloan             2             62\n",
      "9    Scouts     1st  Piger             3             70\n",
      "10   Scouts     2nd  Riani             2             62\n",
      "11   Scouts     2nd    Ali             3             70\n"
     ]
    }
   ],
   "source": [
    "# Step 1. Import the necessary libraries\n",
    "import pandas as pd\n",
    "\n",
    "# Step 2. Create the DataFrame with the following values\n",
    "raw_data = {\n",
    "    'regiment': ['Nighthawks', 'Nighthawks', 'Nighthawks', 'Nighthawks',\n",
    "                 'Dragoons', 'Dragoons', 'Dragoons', 'Dragoons',\n",
    "                 'Scouts', 'Scouts', 'Scouts', 'Scouts'],\n",
    "    'company': ['1st', '1st', '2nd', '2nd', \n",
    "                '1st', '1st', '2nd', '2nd', \n",
    "                '1st', '1st', '2nd', '2nd'],\n",
    "    'name': ['Miller', 'Jacobson', 'Ali', 'Milner', \n",
    "             'Cooze', 'Jacon', 'Ryaner', 'Sone', \n",
    "             'Sloan', 'Piger', 'Riani', 'Ali'],\n",
    "    'preTestScore': [4, 24, 31, 2, 3, 4, 24, 31, 2, 3, 2, 3],\n",
    "    'postTestScore': [25, 94, 57, 62, 70, 25, 94, 57, 62, 70, 62, 70]\n",
    "}\n",
    "\n",
    "# Step 3. Assign it to a variable called regiment\n",
    "regiment = pd.DataFrame(raw_data)\n",
    "\n",
    "# Step 4. What is the mean preTestScore from the regiment Nighthawks?\n",
    "mean_pretest_nighthawks = regiment[regiment['regiment'] == 'Nighthawks']['preTestScore'].mean()\n",
    "print(\"Mean preTestScore for Nighthawks:\", mean_pretest_nighthawks)\n",
    "\n",
    "# Step 5. Present general statistics by company\n",
    "print(\"\\nGeneral statistics by company:\")\n",
    "print(regiment.groupby('company').describe())\n",
    "\n",
    "# Step 6. What is the mean of each company's preTestScore?\n",
    "print(\"\\nMean preTestScore by company:\")\n",
    "print(regiment.groupby('company')['preTestScore'].mean())\n",
    "\n",
    "# Step 7. Present the mean preTestScores grouped by regiment and company\n",
    "print(\"\\nMean preTestScore grouped by regiment and company:\")\n",
    "print(regiment.groupby(['regiment', 'company'])['preTestScore'].mean())\n",
    "\n",
    "# Step 8. Present the mean preTestScores grouped by regiment and company without hierarchical indexing\n",
    "print(\"\\nMean preTestScore grouped (no hierarchical index):\")\n",
    "print(regiment.groupby(['regiment', 'company'])['preTestScore'].mean().reset_index())\n",
    "\n",
    "# Step 9. Group the entire dataframe by regiment and company\n",
    "grouped = regiment.groupby(['regiment', 'company'])\n",
    "\n",
    "# Step 10. What is the number of observations in each regiment and company\n",
    "print(\"\\nNumber of observations in each group:\")\n",
    "print(grouped.size())\n",
    "\n",
    "# Step 11. Iterate over a group and print the name and the whole data from the regiment\n",
    "print(\"\\nIterating over groups by regiment:\")\n",
    "for name, group in regiment.groupby('regiment'):\n",
    "    print(f\"\\nRegiment: {name}\")\n",
    "    print(group)\n"
   ]
  }
 ],
 "metadata": {
  "kernelspec": {
   "display_name": "venv",
   "language": "python",
   "name": "python3"
  },
  "language_info": {
   "codemirror_mode": {
    "name": "ipython",
    "version": 3
   },
   "file_extension": ".py",
   "mimetype": "text/x-python",
   "name": "python",
   "nbconvert_exporter": "python",
   "pygments_lexer": "ipython3",
   "version": "3.13.3"
  }
 },
 "nbformat": 4,
 "nbformat_minor": 0
}
