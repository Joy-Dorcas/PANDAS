{
 "cells": [
  {
   "cell_type": "markdown",
   "metadata": {},
   "source": [
    "# Ex2 - Getting and Knowing your Data"
   ]
  },
  {
   "cell_type": "markdown",
   "metadata": {},
   "source": [
    "This time we are going to pull data directly from the internet.\n",
    "Special thanks to: https://github.com/justmarkham for sharing the dataset and materials.\n",
    "\n",
    "### Step 1. Import the necessary libraries"
   ]
  },
  {
   "cell_type": "markdown",
   "metadata": {},
   "source": [
    "### Step 2. Import the dataset from this [address](https://raw.githubusercontent.com/justmarkham/DAT8/master/data/chipotle.tsv). "
   ]
  },
  {
   "cell_type": "markdown",
   "metadata": {},
   "source": [
    "### Step 3. Assign it to a variable called chipo."
   ]
  },
  {
   "cell_type": "markdown",
   "metadata": {},
   "source": [
    "### Step 4. See the first 10 entries"
   ]
  },
  {
   "cell_type": "markdown",
   "metadata": {},
   "source": [
    "### Step 5. What is the number of observations in the dataset?"
   ]
  },
  {
   "cell_type": "markdown",
   "metadata": {},
   "source": [
    "### Step 6. What is the number of columns in the dataset?"
   ]
  },
  {
   "cell_type": "markdown",
   "metadata": {},
   "source": [
    "### Step 7. Print the name of all the columns."
   ]
  },
  {
   "cell_type": "markdown",
   "metadata": {},
   "source": [
    "### Step 8. How is the dataset indexed?"
   ]
  },
  {
   "cell_type": "markdown",
   "metadata": {},
   "source": [
    "### Step 9. Which was the most-ordered item? "
   ]
  },
  {
   "cell_type": "markdown",
   "metadata": {},
   "source": [
    "### Step 10. For the most-ordered item, how many items were ordered?"
   ]
  },
  {
   "cell_type": "markdown",
   "metadata": {},
   "source": [
    "### Step 11. What was the most ordered item in the choice_description column?"
   ]
  },
  {
   "cell_type": "markdown",
   "metadata": {},
   "source": [
    "### Step 12. How many items were orderd in total?"
   ]
  },
  {
   "cell_type": "markdown",
   "metadata": {},
   "source": [
    "### Step 13. Turn the item price into a float"
   ]
  },
  {
   "cell_type": "markdown",
   "metadata": {},
   "source": [
    "#### Step 13.a. Check the item price type"
   ]
  },
  {
   "cell_type": "markdown",
   "metadata": {},
   "source": [
    "#### Step 13.b. Create a lambda function and change the type of item price"
   ]
  },
  {
   "cell_type": "markdown",
   "metadata": {},
   "source": [
    "#### Step 13.c. Check the item price type"
   ]
  },
  {
   "cell_type": "markdown",
   "metadata": {},
   "source": [
    "### Step 14. How much was the revenue for the period in the dataset?"
   ]
  },
  {
   "cell_type": "markdown",
   "metadata": {},
   "source": [
    "### Step 15. How many orders were made in the period?"
   ]
  },
  {
   "cell_type": "markdown",
   "metadata": {},
   "source": [
    "### Step 16. What is the average revenue amount per order?"
   ]
  },
  {
   "cell_type": "markdown",
   "metadata": {},
   "source": [
    "### Step 17. How many different items are sold?"
   ]
  },
  {
   "cell_type": "code",
   "execution_count": 6,
   "metadata": {
    "collapsed": false
   },
   "outputs": [
    {
     "name": "stdout",
     "output_type": "stream",
     "text": [
      "   order_id  quantity                              item_name  \\\n",
      "0         1         1           Chips and Fresh Tomato Salsa   \n",
      "1         1         1                                   Izze   \n",
      "2         1         1                       Nantucket Nectar   \n",
      "3         1         1  Chips and Tomatillo-Green Chili Salsa   \n",
      "4         2         2                           Chicken Bowl   \n",
      "5         3         1                           Chicken Bowl   \n",
      "6         3         1                          Side of Chips   \n",
      "7         4         1                          Steak Burrito   \n",
      "8         4         1                       Steak Soft Tacos   \n",
      "9         5         1                          Steak Burrito   \n",
      "\n",
      "                                  choice_description item_price  \n",
      "0                                                NaN     $2.39   \n",
      "1                                       [Clementine]     $3.39   \n",
      "2                                            [Apple]     $3.39   \n",
      "3                                                NaN     $2.39   \n",
      "4  [Tomatillo-Red Chili Salsa (Hot), [Black Beans...    $16.98   \n",
      "5  [Fresh Tomato Salsa (Mild), [Rice, Cheese, Sou...    $10.98   \n",
      "6                                                NaN     $1.69   \n",
      "7  [Tomatillo Red Chili Salsa, [Fajita Vegetables...    $11.75   \n",
      "8  [Tomatillo Green Chili Salsa, [Pinto Beans, Ch...     $9.25   \n",
      "9  [Fresh Tomato Salsa, [Rice, Black Beans, Pinto...     $9.25   \n",
      "Number of observations: 4622\n",
      "Number of columns: 5\n"
     ]
    }
   ],
   "source": [
    "# Step 1. Import the necessary libraries\n",
    "import pandas as pd\n",
    "import numpy as np\n",
    "\n",
    "# Step 2. Import the dataset from this address\n",
    "url = 'https://raw.githubusercontent.com/justmarkham/pandas-videos/master/data/chipotle.tsv'\n",
    "\n",
    "# Step 3. Assign it to a variable called chipo\n",
    "chipo = pd.read_csv(url, sep='\\t')\n",
    "\n",
    "# Step 4. See the first 10 entries\n",
    "print(chipo.head(10))\n",
    "\n",
    "# Step 5. What is the number of observations in the dataset?\n",
    "print(\"Number of observations:\", chipo.shape[0])\n",
    "\n",
    "# Step 6. What is the number of columns in the dataset?\n",
    "print(\"Number of columns:\", chipo.shape[1])\n",
    "\n",
    "\n",
    "\n",
    "\n",
    "\n"
   ]
  },
  {
   "cell_type": "code",
   "execution_count": 7,
   "metadata": {},
   "outputs": [
    {
     "name": "stdout",
     "output_type": "stream",
     "text": [
      "Column names: ['order_id', 'quantity', 'item_name', 'choice_description', 'item_price']\n",
      "Index info: RangeIndex(start=0, stop=4622, step=1)\n",
      "Most-ordered item:               order_id  quantity\n",
      "item_name                       \n",
      "Chicken Bowl    713926       761\n"
     ]
    }
   ],
   "source": [
    "# Step 7. Print the name of all the columns\n",
    "print(\"Column names:\", chipo.columns.tolist())\n",
    "\n",
    "# Step 8. How is the dataset indexed?\n",
    "print(\"Index info:\", chipo.index)\n",
    "\n",
    "# Step 9. Which was the most-ordered item?\n",
    "most_ordered = chipo.groupby('item_name').sum(numeric_only=True).sort_values('quantity', ascending=False)\n",
    "print(\"Most-ordered item:\", most_ordered.head(1))"
   ]
  },
  {
   "cell_type": "code",
   "execution_count": 4,
   "metadata": {},
   "outputs": [
    {
     "name": "stdout",
     "output_type": "stream",
     "text": [
      "Number of items ordered: 761\n",
      "Most ordered choice_description:                     order_id  quantity\n",
      "choice_description                    \n",
      "[Diet Coke]           123455       159\n",
      "Total items ordered: 4972\n",
      "Item price data type before: object\n",
      "Item price data type after: float64\n"
     ]
    }
   ],
   "source": [
    "# Step 10. For the most-ordered item, how many items were ordered?\n",
    "print(\"Number of items ordered:\", most_ordered.iloc[0]['quantity'])\n",
    "\n",
    "# Step 11. What was the most ordered item in the choice_description column?\n",
    "most_ordered_choice = chipo.groupby('choice_description').sum(numeric_only=True).sort_values('quantity', ascending=False)\n",
    "print(\"Most ordered choice_description:\", most_ordered_choice.head(1))\n",
    "\n",
    "# Step 12. How many items were ordered in total?\n",
    "print(\"Total items ordered:\", chipo['quantity'].sum())\n",
    "\n",
    "# Step 13.a. Check the item price type\n",
    "print(\"Item price data type before:\", chipo['item_price'].dtype)\n",
    "\n",
    "# Step 13.b. Create a lambda function and change the type of item price\n",
    "chipo['item_price'] = chipo['item_price'].apply(lambda x: float(x.replace('$', '')))\n",
    "\n",
    "# Step 13.c. Check the item price type\n",
    "print(\"Item price data type after:\", chipo['item_price'].dtype)"
   ]
  },
  {
   "cell_type": "code",
   "execution_count": 5,
   "metadata": {},
   "outputs": [
    {
     "name": "stdout",
     "output_type": "stream",
     "text": [
      "Total revenue: $ 39237.02\n",
      "Total orders: 1834\n",
      "Average revenue per order: $ 21.39423118865867\n",
      "Average revenue per order (method 2): $ 21.39423118865867\n",
      "Number of unique items sold: 50\n"
     ]
    }
   ],
   "source": [
    "# Step 14. How much was the revenue for the period in the dataset?\n",
    "chipo['total_price'] = chipo['quantity'] * chipo['item_price']\n",
    "print(\"Total revenue: $\", chipo['total_price'].sum())\n",
    "\n",
    "# Step 15. How many orders were made in the period?\n",
    "print(\"Total orders:\", chipo['order_id'].nunique())\n",
    "\n",
    "# Step 16. What is the average revenue amount per order?\n",
    "# Solution 1:\n",
    "revenue_per_order = chipo.groupby('order_id')['total_price'].sum()\n",
    "print(\"Average revenue per order: $\", revenue_per_order.mean())\n",
    "\n",
    "# Solution 2:\n",
    "average_revenue = chipo['total_price'].sum() / chipo['order_id'].nunique()\n",
    "print(\"Average revenue per order (method 2): $\", average_revenue)\n",
    "\n",
    "# Step 17. How many different items are sold?\n",
    "print(\"Number of unique items sold:\", chipo['item_name'].nunique())"
   ]
  }
 ],
 "metadata": {
  "anaconda-cloud": {},
  "kernelspec": {
   "display_name": "venv",
   "language": "python",
   "name": "python3"
  },
  "language_info": {
   "codemirror_mode": {
    "name": "ipython",
    "version": 3
   },
   "file_extension": ".py",
   "mimetype": "text/x-python",
   "name": "python",
   "nbconvert_exporter": "python",
   "pygments_lexer": "ipython3",
   "version": "3.13.3"
  }
 },
 "nbformat": 4,
 "nbformat_minor": 0
}
