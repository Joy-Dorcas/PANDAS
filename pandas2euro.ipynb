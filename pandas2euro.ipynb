{
 "cells": [
  {
   "cell_type": "markdown",
   "metadata": {},
   "source": [
    "# Ex2 - Filtering and Sorting Data"
   ]
  },
  {
   "cell_type": "markdown",
   "metadata": {},
   "source": [
    "This time we are going to pull data directly from the internet.\n",
    "\n",
    "### Step 1. Import the necessary libraries"
   ]
  },
  {
   "cell_type": "markdown",
   "metadata": {},
   "source": [
    "### Step 2. Import the dataset from this [address](https://raw.githubusercontent.com/guipsamora/pandas_exercises/master/02_Filtering_%26_Sorting/Euro12/Euro_2012_stats_TEAM.csv). "
   ]
  },
  {
   "cell_type": "markdown",
   "metadata": {},
   "source": [
    "### Step 3. Assign it to a variable called euro12."
   ]
  },
  {
   "cell_type": "markdown",
   "metadata": {},
   "source": [
    "### Step 4. Select only the Goal column."
   ]
  },
  {
   "cell_type": "markdown",
   "metadata": {},
   "source": [
    "### Step 5. How many team participated in the Euro2012?"
   ]
  },
  {
   "cell_type": "markdown",
   "metadata": {},
   "source": [
    "### Step 6. What is the number of columns in the dataset?"
   ]
  },
  {
   "cell_type": "markdown",
   "metadata": {},
   "source": [
    "### Step 7. View only the columns Team, Yellow Cards and Red Cards and assign them to a dataframe called discipline"
   ]
  },
  {
   "cell_type": "markdown",
   "metadata": {},
   "source": [
    "### Step 8. Sort the teams by Red Cards, then to Yellow Cards"
   ]
  },
  {
   "cell_type": "markdown",
   "metadata": {},
   "source": [
    "### Step 9. Calculate the mean Yellow Cards given per Team"
   ]
  },
  {
   "cell_type": "markdown",
   "metadata": {},
   "source": [
    "### Step 10. Filter teams that scored more than 6 goals"
   ]
  },
  {
   "cell_type": "markdown",
   "metadata": {},
   "source": [
    "### Step 11. Select the teams that start with G"
   ]
  },
  {
   "cell_type": "markdown",
   "metadata": {},
   "source": [
    "### Step 12. Select the first 7 columns"
   ]
  },
  {
   "cell_type": "markdown",
   "metadata": {},
   "source": [
    "### Step 13. Select all columns except the last 3."
   ]
  },
  {
   "cell_type": "markdown",
   "metadata": {},
   "source": [
    "### Step 14. Present only the Shooting Accuracy from England, Italy and Russia"
   ]
  },
  {
   "cell_type": "code",
   "execution_count": 11,
   "metadata": {
    "collapsed": false
   },
   "outputs": [
    {
     "name": "stdout",
     "output_type": "stream",
     "text": [
      "Step 4: Goal column:\n",
      " 0      4\n",
      "1      4\n",
      "2      4\n",
      "3      5\n",
      "4      3\n",
      "5     10\n",
      "6      5\n",
      "7      6\n",
      "8      2\n",
      "9      2\n",
      "10     6\n",
      "11     1\n",
      "12     5\n",
      "13    12\n",
      "14     5\n",
      "15     2\n",
      "Name: Goals, dtype: int64\n",
      "Step 5: Number of teams: 16\n",
      "Step 6: Number of columns: 35\n",
      "Step 7: Discipline dataframe:\n",
      "              Team  Yellow Cards  Red Cards\n",
      "0         Croatia             9          0\n",
      "1  Czech Republic             7          0\n",
      "2         Denmark             4          0\n",
      "3         England             5          0\n",
      "4          France             6          0\n"
     ]
    }
   ],
   "source": [
    "# Step 1: Import the necessary libraries\n",
    "import pandas as pd\n",
    "\n",
    "# Step 2 & 3: Load the dataset and assign to a variable called euro12\n",
    "euro12 = pd.read_csv('Euro_2012_stats_TEAM.csv')\n",
    "\n",
    "# Step 4: Select only the Goal column\n",
    "goals = euro12['Goals']\n",
    "print(\"Step 4: Goal column:\\n\", goals)\n",
    "\n",
    "# Step 5: How many teams participated in Euro2012?\n",
    "num_teams = euro12['Team'].nunique()\n",
    "print(\"Step 5: Number of teams:\", num_teams)\n",
    "\n",
    "# Step 6: What is the number of columns in the dataset?\n",
    "num_columns = euro12.shape[1]\n",
    "print(\"Step 6: Number of columns:\", num_columns)\n",
    "\n",
    "# Step 7: View Team, Yellow Cards, Red Cards → assign to 'discipline'\n",
    "discipline = euro12[['Team', 'Yellow Cards', 'Red Cards']]\n",
    "print(\"Step 7: Discipline dataframe:\\n\", discipline.head())\n",
    "\n",
    "\n"
   ]
  },
  {
   "cell_type": "code",
   "execution_count": 10,
   "metadata": {},
   "outputs": [
    {
     "name": "stdout",
     "output_type": "stream",
     "text": [
      "Step 8: Sorted by Red and Yellow Cards:\n",
      "                    Team  Yellow Cards  Red Cards\n",
      "6                Greece             9          1\n",
      "9                Poland             7          1\n",
      "11  Republic of Ireland             6          1\n",
      "7                 Italy            16          0\n",
      "10             Portugal            12          0\n",
      "13                Spain            11          0\n",
      "0               Croatia             9          0\n",
      "1        Czech Republic             7          0\n",
      "14               Sweden             7          0\n",
      "4                France             6          0\n",
      "12               Russia             6          0\n",
      "3               England             5          0\n",
      "8           Netherlands             5          0\n",
      "15              Ukraine             5          0\n",
      "2               Denmark             4          0\n",
      "5               Germany             4          0\n",
      "Step 9: Mean Yellow Cards per team: 7.4375\n",
      "Step 10: Teams that scored more than 6 goals:\n",
      "        Team  Goals\n",
      "5   Germany     10\n",
      "13    Spain     12\n"
     ]
    }
   ],
   "source": [
    "# Step 8: Sort by Red Cards, then Yellow Cards\n",
    "sorted_discipline = discipline.sort_values(by=['Red Cards', 'Yellow Cards'], ascending=False)\n",
    "print(\"Step 8: Sorted by Red and Yellow Cards:\\n\", sorted_discipline)\n",
    "\n",
    "# Step 9: Mean Yellow Cards per Team\n",
    "mean_yellow = euro12['Yellow Cards'].mean()\n",
    "print(\"Step 9: Mean Yellow Cards per team:\", mean_yellow)\n",
    "\n",
    "# Step 10: Teams that scored more than 6 goals\n",
    "high_scoring = euro12[euro12['Goals'] > 6]\n",
    "print(\"Step 10: Teams that scored more than 6 goals:\\n\", high_scoring[['Team', 'Goals']])\n",
    "\n"
   ]
  },
  {
   "cell_type": "code",
   "execution_count": 9,
   "metadata": {},
   "outputs": [
    {
     "name": "stdout",
     "output_type": "stream",
     "text": [
      "Step 11: Teams starting with G:\n",
      "       Team\n",
      "5  Germany\n",
      "6   Greece\n",
      "Step 12: First 7 columns:\n",
      "              Team  Goals  Shots on target  Shots off target Shooting Accuracy  \\\n",
      "0         Croatia      4               13                12             51.9%   \n",
      "1  Czech Republic      4               13                18             41.9%   \n",
      "2         Denmark      4               10                10             50.0%   \n",
      "3         England      5               11                18             50.0%   \n",
      "4          France      3               22                24             37.9%   \n",
      "\n",
      "  % Goals-to-shots  Total shots (inc. Blocked)  \n",
      "0            16.0%                          32  \n",
      "1            12.9%                          39  \n",
      "2            20.0%                          27  \n",
      "3            17.2%                          40  \n",
      "4             6.5%                          65  \n",
      "Step 13: All columns except the last 3:\n",
      "              Team  Goals  Shots on target  Shots off target Shooting Accuracy  \\\n",
      "0         Croatia      4               13                12             51.9%   \n",
      "1  Czech Republic      4               13                18             41.9%   \n",
      "2         Denmark      4               10                10             50.0%   \n",
      "3         England      5               11                18             50.0%   \n",
      "4          France      3               22                24             37.9%   \n",
      "\n",
      "  % Goals-to-shots  Total shots (inc. Blocked)  Hit Woodwork  Penalty goals  \\\n",
      "0            16.0%                          32             0              0   \n",
      "1            12.9%                          39             0              0   \n",
      "2            20.0%                          27             1              0   \n",
      "3            17.2%                          40             0              0   \n",
      "4             6.5%                          65             1              0   \n",
      "\n",
      "   Penalties not scored  ...  Clean Sheets  Blocks  Goals conceded Saves made  \\\n",
      "0                     0  ...             0      10               3         13   \n",
      "1                     0  ...             1      10               6          9   \n",
      "2                     0  ...             1      10               5         10   \n",
      "3                     0  ...             2      29               3         22   \n",
      "4                     0  ...             1       7               5          6   \n",
      "\n",
      "   Saves-to-shots ratio  Fouls Won  Fouls Conceded  Offsides  Yellow Cards  \\\n",
      "0                 81.3%         41              62         2             9   \n",
      "1                 60.1%         53              73         8             7   \n",
      "2                 66.7%         25              38         8             4   \n",
      "3                 88.1%         43              45         6             5   \n",
      "4                 54.6%         36              51         5             6   \n",
      "\n",
      "   Red Cards  \n",
      "0          0  \n",
      "1          0  \n",
      "2          0  \n",
      "3          0  \n",
      "4          0  \n",
      "\n",
      "[5 rows x 32 columns]\n"
     ]
    }
   ],
   "source": [
    "# Step 11: Teams starting with 'G'\n",
    "teams_g = euro12[euro12['Team'].str.startswith('G')]\n",
    "print(\"Step 11: Teams starting with G:\\n\", teams_g[['Team']])\n",
    "\n",
    "# Step 12: First 7 columns\n",
    "first_7_cols = euro12.iloc[:, :7]\n",
    "print(\"Step 12: First 7 columns:\\n\", first_7_cols.head())\n",
    "\n",
    "# Step 13: All columns except the last 3\n",
    "all_except_last_3 = euro12.iloc[:, :-3]\n",
    "print(\"Step 13: All columns except the last 3:\\n\", all_except_last_3.head())\n",
    "\n"
   ]
  },
  {
   "cell_type": "code",
   "execution_count": 6,
   "metadata": {},
   "outputs": [
    {
     "name": "stdout",
     "output_type": "stream",
     "text": [
      "\n",
      "Step 14: Shooting Accuracy (England, Italy, Russia):\n",
      "        Team Shooting Accuracy\n",
      "3   England             50.0%\n",
      "7     Italy             43.0%\n",
      "12   Russia             22.5%\n"
     ]
    }
   ],
   "source": [
    "# Step 14: Shooting Accuracy for England, Italy, Russia\n",
    "shooting_accuracy = euro12[euro12['Team'].isin(['England', 'Italy', 'Russia'])][['Team', 'Shooting Accuracy']]\n",
    "print(\"\\nStep 14: Shooting Accuracy (England, Italy, Russia):\\n\", shooting_accuracy)"
   ]
  }
 ],
 "metadata": {
  "anaconda-cloud": {},
  "kernelspec": {
   "display_name": "venv",
   "language": "python",
   "name": "python3"
  },
  "language_info": {
   "codemirror_mode": {
    "name": "ipython",
    "version": 3
   },
   "file_extension": ".py",
   "mimetype": "text/x-python",
   "name": "python",
   "nbconvert_exporter": "python",
   "pygments_lexer": "ipython3",
   "version": "3.13.3"
  }
 },
 "nbformat": 4,
 "nbformat_minor": 0
}
