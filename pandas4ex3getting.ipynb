{
 "cells": [
  {
   "cell_type": "markdown",
   "metadata": {},
   "source": [
    "# Ex3 - Getting and Knowing your Data"
   ]
  },
  {
   "cell_type": "markdown",
   "metadata": {},
   "source": [
    "This time we are going to pull data directly from the internet.\n",
    "Special thanks to: https://github.com/justmarkham for sharing the dataset and materials.\n",
    "\n",
    "### Step 1. Import the necessary libraries"
   ]
  },
  {
   "cell_type": "markdown",
   "metadata": {},
   "source": [
    "### Step 2. Import the dataset from this [address](https://raw.githubusercontent.com/justmarkham/DAT8/master/data/u.user). "
   ]
  },
  {
   "cell_type": "markdown",
   "metadata": {},
   "source": [
    "### Step 3. Assign it to a variable called users and use the 'user_id' as index"
   ]
  },
  {
   "cell_type": "markdown",
   "metadata": {},
   "source": [
    "### Step 4. See the first 25 entries"
   ]
  },
  {
   "cell_type": "markdown",
   "metadata": {},
   "source": [
    "### Step 5. See the last 10 entries"
   ]
  },
  {
   "cell_type": "markdown",
   "metadata": {},
   "source": [
    "### Step 6. What is the number of observations in the dataset?"
   ]
  },
  {
   "cell_type": "markdown",
   "metadata": {},
   "source": [
    "### Step 7. What is the number of columns in the dataset?"
   ]
  },
  {
   "cell_type": "markdown",
   "metadata": {},
   "source": [
    "### Step 8. Print the name of all the columns."
   ]
  },
  {
   "cell_type": "markdown",
   "metadata": {},
   "source": [
    "### Step 9. How is the dataset indexed?"
   ]
  },
  {
   "cell_type": "markdown",
   "metadata": {},
   "source": [
    "### Step 10. What is the data type of each column?"
   ]
  },
  {
   "cell_type": "markdown",
   "metadata": {},
   "source": [
    "### Step 11. Print only the occupation column"
   ]
  },
  {
   "cell_type": "markdown",
   "metadata": {},
   "source": [
    "### Step 12. How many different occupations are in this dataset?"
   ]
  },
  {
   "cell_type": "markdown",
   "metadata": {},
   "source": [
    "### Step 13. What is the most frequent occupation?"
   ]
  },
  {
   "cell_type": "markdown",
   "metadata": {},
   "source": [
    "### Step 14. Summarize the DataFrame."
   ]
  },
  {
   "cell_type": "markdown",
   "metadata": {},
   "source": [
    "### Step 15. Summarize all the columns"
   ]
  },
  {
   "cell_type": "markdown",
   "metadata": {},
   "source": [
    "### Step 16. Summarize only the occupation column"
   ]
  },
  {
   "cell_type": "markdown",
   "metadata": {},
   "source": [
    "### Step 17. What is the mean age of users?"
   ]
  },
  {
   "cell_type": "markdown",
   "metadata": {},
   "source": [
    "### Step 18. What is the age with least occurrence?"
   ]
  },
  {
   "cell_type": "code",
   "execution_count": null,
   "metadata": {},
   "outputs": [],
   "source": [
    "import pandas as pd\n",
    "\n",
    "# Step 1: Load the data without setting the index to confirm column names\n",
    "url = 'https://raw.githubusercontent.com/justmarkham/pandas-videos/master/data/u.user'\n",
    "users_raw = pd.read_csv(url, sep='|')\n",
    "\n",
    "# Check available column names\n",
    "print(users_raw.columns)\n",
    "\n",
    "# Step 2: Now load again, safely, with 'user_id' as index\n",
    "if 'user_id' in users_raw.columns:\n",
    "    users = pd.read_csv(url, sep='|', index_col='user_id')\n",
    "    print(\"Data loaded successfully with 'user_id' as index.\")\n",
    "else:\n",
    "    print(\"Column 'user_id' not found. Please check the dataset structure.\")\n",
    "# Step 3: Display the column names to confirm they are correct\n",
    "print(users.columns)\n",
    "\n",
    "users = pd.read_csv(url, sep='|')\n",
    "users.set_index('user_id', inplace=True)\n",
    "\n",
    "\n",
    "\n",
    "# Step 5: Show the first 25 rows of the dataset\n",
    "print(\"First 25 entries:\\n\", users.head(25))\n",
    "\n",
    "# Step 6: Show the last 10 rows of the dataset\n",
    "print(\"Last 10 entries:\\n\", users.tail(10))\n",
    "\n",
    "# Step 7: Display the number of observations (rows)\n",
    "print(\"Number of observations:\", users.shape[0])\n",
    "\n",
    "# Step 8: Display the number of columns\n",
    "print(\"Number of columns:\", users.shape[1])\n",
    "\n",
    "# Step 9: Print the names of all columns\n",
    "print(\"Column names:\", users.columns.tolist())\n",
    "\n",
    "# Step 10: Show how the dataset is indexed\n",
    "print(\"Index info:\", users.index)\n",
    "\n",
    "# Step 11: Display the data type of each column\n",
    "print(\"Data types:\\n\", users.dtypes)\n",
    "\n",
    "# Step 12: Print only the 'occupation' column\n",
    "print(\"Occupation column:\\n\", users['occupation'])\n",
    "\n",
    "# Step 13: Print the number of unique occupations\n",
    "print(\"Number of unique occupations:\", users['occupation'].nunique())\n",
    "\n",
    "# Step 14: Print the most frequent occupation\n",
    "print(\"Most frequent occupation:\\n\", users['occupation'].value_counts().head(1))\n",
    "\n",
    "# Step 15: Summary statistics for the whole DataFrame (all columns)\n",
    "print(\"DataFrame summary:\\n\", users.describe(include='all'))\n",
    "\n",
    "# Step 16: Same as above; summarizing all columns again (can be skipped or merged with Step 15)\n",
    "print(\"Summary of all columns:\\n\", users.describe(include='all'))\n",
    "\n",
    "# Step 17: Summary statistics for the 'occupation' column only\n",
    "print(\"Occupation summary:\\n\", users['occupation'].describe())\n",
    "\n",
    "# Step 18: Compute the mean age of users\n",
    "print(\"Mean age:\", users['age'].mean())\n",
    "\n",
    "# Step 19: Find the age that occurs the least frequently in the dataset\n",
    "print(\"Age with least occurrence:\\n\", users['age'].value_counts().idxmin())"
   ]
  }
 ],
 "metadata": {
  "anaconda-cloud": {},
  "kernelspec": {
   "display_name": "venv",
   "language": "python",
   "name": "python3"
  },
  "language_info": {
   "codemirror_mode": {
    "name": "ipython",
    "version": 3
   },
   "file_extension": ".py",
   "mimetype": "text/x-python",
   "name": "python",
   "nbconvert_exporter": "python",
   "pygments_lexer": "ipython3",
   "version": "3.13.3"
  }
 },
 "nbformat": 4,
 "nbformat_minor": 0
}
