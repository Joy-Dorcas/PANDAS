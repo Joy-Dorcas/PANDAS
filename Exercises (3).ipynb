{
 "cells": [
  {
   "cell_type": "markdown",
   "metadata": {},
   "source": [
    "# Iris"
   ]
  },
  {
   "cell_type": "markdown",
   "metadata": {},
   "source": [
    "### Introduction:\n",
    "\n",
    "This exercise may seem a little bit strange, but keep doing it.\n",
    "\n",
    "### Step 1. Import the necessary libraries"
   ]
  },
  {
   "cell_type": "markdown",
   "metadata": {},
   "source": [
    "### Step 2. Import the dataset from this [address](https://archive.ics.uci.edu/ml/machine-learning-databases/iris/iris.data). "
   ]
  },
  {
   "cell_type": "markdown",
   "metadata": {},
   "source": [
    "### Step 3. Assign it to a variable called iris"
   ]
  },
  {
   "cell_type": "markdown",
   "metadata": {},
   "source": [
    "### Step 4. Create columns for the dataset"
   ]
  },
  {
   "cell_type": "code",
   "execution_count": 57,
   "metadata": {
    "collapsed": false
   },
   "outputs": [],
   "source": [
    "# 1. sepal_length (in cm)\n",
    "# 2. sepal_width (in cm)\n",
    "# 3. petal_length (in cm)\n",
    "# 4. petal_width (in cm)\n",
    "# 5. class"
   ]
  },
  {
   "cell_type": "markdown",
   "metadata": {},
   "source": [
    "### Step 5.  Is there any missing value in the dataframe?"
   ]
  },
  {
   "cell_type": "markdown",
   "metadata": {},
   "source": [
    "### Step 6.  Lets set the values of the rows 10 to 29 of the column 'petal_length' to NaN"
   ]
  },
  {
   "cell_type": "code",
   "execution_count": null,
   "metadata": {
    "collapsed": false
   },
   "outputs": [],
   "source": []
  },
  {
   "cell_type": "markdown",
   "metadata": {},
   "source": [
    "### Step 7. Good, now lets substitute the NaN values to 1.0"
   ]
  },
  {
   "cell_type": "code",
   "execution_count": null,
   "metadata": {
    "collapsed": false
   },
   "outputs": [],
   "source": []
  },
  {
   "cell_type": "markdown",
   "metadata": {},
   "source": [
    "### Step 8. Now let's delete the column class"
   ]
  },
  {
   "cell_type": "code",
   "execution_count": null,
   "metadata": {
    "collapsed": false
   },
   "outputs": [],
   "source": []
  },
  {
   "cell_type": "markdown",
   "metadata": {},
   "source": [
    "### Step 9.  Set the first 3 rows as NaN"
   ]
  },
  {
   "cell_type": "code",
   "execution_count": null,
   "metadata": {
    "collapsed": false
   },
   "outputs": [],
   "source": []
  },
  {
   "cell_type": "markdown",
   "metadata": {},
   "source": [
    "### Step 10.  Delete the rows that have NaN"
   ]
  },
  {
   "cell_type": "code",
   "execution_count": null,
   "metadata": {
    "collapsed": false
   },
   "outputs": [],
   "source": []
  },
  {
   "cell_type": "markdown",
   "metadata": {},
   "source": [
    "### Step 11. Reset the index so it begins with 0 again"
   ]
  },
  {
   "cell_type": "code",
   "execution_count": null,
   "metadata": {
    "collapsed": false
   },
   "outputs": [],
   "source": []
  },
  {
   "cell_type": "markdown",
   "metadata": {},
   "source": [
    "### BONUS: Create your own question and answer it."
   ]
  },
  {
   "cell_type": "code",
   "execution_count": 1,
   "metadata": {
    "collapsed": true
   },
   "outputs": [
    {
     "name": "stdout",
     "output_type": "stream",
     "text": [
      "\n",
      "Dataset with columns:\n",
      "    sepal_length  sepal_width  petal_length  petal_width        class\n",
      "0           5.1          3.5           1.4          0.2  Iris-setosa\n",
      "1           4.9          3.0           1.4          0.2  Iris-setosa\n",
      "2           4.7          3.2           1.3          0.2  Iris-setosa\n",
      "3           4.6          3.1           1.5          0.2  Iris-setosa\n",
      "4           5.0          3.6           1.4          0.2  Iris-setosa\n",
      "\n",
      "Missing values in each column:\n",
      " sepal_length    0\n",
      "sepal_width     0\n",
      "petal_length    0\n",
      "petal_width     0\n",
      "class           0\n",
      "dtype: int64\n",
      "\n",
      "Cleaned iris dataset:\n",
      "    sepal_length  sepal_width  petal_length  petal_width\n",
      "0           4.6          3.1           1.5          0.2\n",
      "1           5.0          3.6           1.4          0.2\n",
      "2           5.4          3.9           1.7          0.4\n",
      "3           4.6          3.4           1.4          0.3\n",
      "4           5.0          3.4           1.5          0.2\n",
      "\n",
      "BONUS:\n",
      "Average Sepal Length: 5.86 cm\n",
      "Average Sepal Width: 3.05 cm\n"
     ]
    },
    {
     "name": "stderr",
     "output_type": "stream",
     "text": [
      "C:\\Users\\USER\\AppData\\Local\\Temp\\ipykernel_13032\\3834292467.py:22: FutureWarning: A value is trying to be set on a copy of a DataFrame or Series through chained assignment using an inplace method.\n",
      "The behavior will change in pandas 3.0. This inplace method will never work because the intermediate object on which we are setting values always behaves as a copy.\n",
      "\n",
      "For example, when doing 'df[col].method(value, inplace=True)', try using 'df.method({col: value}, inplace=True)' or df[col] = df[col].method(value) instead, to perform the operation inplace on the original object.\n",
      "\n",
      "\n",
      "  iris['petal_length'].fillna(1.0, inplace=True)\n"
     ]
    }
   ],
   "source": [
    "# Step 1. Import the necessary libraries\n",
    "import pandas as pd\n",
    "import numpy as np\n",
    "\n",
    "# Step 2. Import the dataset\n",
    "url = \"https://archive.ics.uci.edu/ml/machine-learning-databases/iris/iris.data\"\n",
    "\n",
    "# Step 3. Assign it to a variable called iris\n",
    "iris = pd.read_csv(url, header=None)\n",
    "\n",
    "# Step 4. Create columns for the dataset\n",
    "iris.columns = ['sepal_length', 'sepal_width', 'petal_length', 'petal_width', 'class']\n",
    "print(\"\\nDataset with columns:\\n\", iris.head())\n",
    "\n",
    "# Step 5. Check for any missing values\n",
    "print(\"\\nMissing values in each column:\\n\", iris.isnull().sum())\n",
    "\n",
    "# Step 6. Set rows 10 to 29 of the column 'petal_length' to NaN\n",
    "iris.loc[10:29, 'petal_length'] = np.nan\n",
    "\n",
    "# Step 7. Substitute NaN values in 'petal_length' with 1.0\n",
    "iris['petal_length'].fillna(1.0, inplace=True)\n",
    "\n",
    "# Step 8. Delete the column 'class'\n",
    "iris.drop('class', axis=1, inplace=True)\n",
    "\n",
    "# Step 9. Set the first 3 rows as NaN\n",
    "iris.iloc[0:3] = np.nan\n",
    "\n",
    "# Step 10. Delete the rows that have NaN\n",
    "iris.dropna(inplace=True)\n",
    "\n",
    "# Step 11. Reset the index so it begins with 0 again\n",
    "iris.reset_index(drop=True, inplace=True)\n",
    "\n",
    "# Final output\n",
    "print(\"\\nCleaned iris dataset:\\n\", iris.head())\n",
    "\n",
    "# BONUS: What is the average sepal length and width after cleaning?\n",
    "avg_sepal_length = iris['sepal_length'].mean()\n",
    "avg_sepal_width = iris['sepal_width'].mean()\n",
    "print(f\"\\nBONUS:\\nAverage Sepal Length: {avg_sepal_length:.2f} cm\")\n",
    "print(f\"Average Sepal Width: {avg_sepal_width:.2f} cm\")\n"
   ]
  }
 ],
 "metadata": {
  "kernelspec": {
   "display_name": ".venv",
   "language": "python",
   "name": "python3"
  },
  "language_info": {
   "codemirror_mode": {
    "name": "ipython",
    "version": 3
   },
   "file_extension": ".py",
   "mimetype": "text/x-python",
   "name": "python",
   "nbconvert_exporter": "python",
   "pygments_lexer": "ipython3",
   "version": "3.13.3"
  }
 },
 "nbformat": 4,
 "nbformat_minor": 0
}
