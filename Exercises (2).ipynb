{
 "cells": [
  {
   "cell_type": "markdown",
   "metadata": {},
   "source": [
    "# Investor - Flow of Funds - US"
   ]
  },
  {
   "cell_type": "markdown",
   "metadata": {},
   "source": [
    "### Introduction:\n",
    "\n",
    "Special thanks to: https://github.com/rgrp for sharing the dataset.\n",
    "\n",
    "### Step 1. Import the necessary libraries"
   ]
  },
  {
   "cell_type": "markdown",
   "metadata": {},
   "source": [
    "### Step 2. Import the dataset from this [address](https://raw.githubusercontent.com/datasets/investor-flow-of-funds-us/master/data/weekly.csv). "
   ]
  },
  {
   "cell_type": "markdown",
   "metadata": {},
   "source": [
    "### Step 3. Assign it to a variable called "
   ]
  },
  {
   "cell_type": "markdown",
   "metadata": {},
   "source": [
    "### Step 4.  What is the frequency of the dataset?"
   ]
  },
  {
   "cell_type": "markdown",
   "metadata": {},
   "source": [
    "### Step 5. Set the column Date as the index."
   ]
  },
  {
   "cell_type": "markdown",
   "metadata": {},
   "source": [
    "### Step 6. What is the type of the index?"
   ]
  },
  {
   "cell_type": "markdown",
   "metadata": {},
   "source": [
    "### Step 7. Set the index to a DatetimeIndex type"
   ]
  },
  {
   "cell_type": "markdown",
   "metadata": {},
   "source": [
    "### Step 8.  Change the frequency to monthly, sum the values and assign it to monthly."
   ]
  },
  {
   "cell_type": "markdown",
   "metadata": {},
   "source": [
    "### Step 9. You will notice that it filled the dataFrame with months that don't have any data with NaN. Let's drop these rows."
   ]
  },
  {
   "cell_type": "markdown",
   "metadata": {},
   "source": [
    "### Step 10. Good, now we have the monthly data. Now change the frequency to year."
   ]
  },
  {
   "cell_type": "markdown",
   "metadata": {},
   "source": [
    "### BONUS: Create your own question and answer it."
   ]
  },
  {
   "cell_type": "code",
   "execution_count": null,
   "metadata": {
    "collapsed": true
   },
   "outputs": [],
   "source": [
    "# Step 1. Import the necessary libraries\n",
    "import pandas as pd\n",
    "\n",
    "url = 'https://raw.githubusercontent.com/datasets/investor-flow-of-funds-us/master/data/investor-flow-of-funds-us.csv'\n",
    "funds = pd.read_csv(url)\n",
    "\n",
    "print(funds.head())\n",
    "\n",
    "\n",
    "# Step 5. Set the column Date as the index\n",
    "funds.set_index('Date', inplace=True)\n",
    "\n",
    "# Step 6. What is the type of the index?\n",
    "print(\"\\nIndex type before conversion:\", type(funds.index))\n",
    "\n",
    "# Step 7. Set the index to a DatetimeIndex type\n",
    "funds.index = pd.to_datetime(funds.index)\n",
    "\n",
    "# Step 8. Change the frequency to monthly, sum the values, and assign to `monthly`\n",
    "monthly = funds.resample('M').sum()\n",
    "\n",
    "# Step 9. Drop rows with NaN values\n",
    "monthly.dropna(inplace=True)\n",
    "\n",
    "# Step 10. Change the frequency to yearly\n",
    "yearly = monthly.resample('Y').sum()\n",
    "\n",
    "# Display final output\n",
    "print(\"\\nMonthly Data (after dropna):\\n\", monthly.head())\n",
    "print(\"\\nYearly Data:\\n\", yearly.head())\n"
   ]
  }
 ],
 "metadata": {
  "kernelspec": {
   "display_name": ".venv",
   "language": "python",
   "name": "python3"
  },
  "language_info": {
   "codemirror_mode": {
    "name": "ipython",
    "version": 3
   },
   "file_extension": ".py",
   "mimetype": "text/x-python",
   "name": "python",
   "nbconvert_exporter": "python",
   "pygments_lexer": "ipython3",
   "version": "3.13.3"
  }
 },
 "nbformat": 4,
 "nbformat_minor": 0
}
