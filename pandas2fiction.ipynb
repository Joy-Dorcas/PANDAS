{
 "cells": [
  {
   "cell_type": "markdown",
   "metadata": {},
   "source": [
    "# Fictional Army - Filtering and Sorting"
   ]
  },
  {
   "cell_type": "markdown",
   "metadata": {},
   "source": [
    "### Introduction:\n",
    "\n",
    "This exercise was inspired by this [page](http://chrisalbon.com/python/)\n",
    "\n",
    "Special thanks to: https://github.com/chrisalbon for sharing the dataset and materials.\n",
    "\n",
    "### Step 1. Import the necessary libraries"
   ]
  },
  {
   "cell_type": "code",
   "execution_count": 3,
   "metadata": {},
   "outputs": [],
   "source": [
    "import pandas as pd"
   ]
  },
  {
   "cell_type": "markdown",
   "metadata": {},
   "source": [
    "### Step 2. This is the data given as a dictionary"
   ]
  },
  {
   "cell_type": "code",
   "execution_count": 4,
   "metadata": {
    "collapsed": true
   },
   "outputs": [],
   "source": [
    "# Create an example dataframe about a fictional army\n",
    "raw_data = {'regiment': ['Nighthawks', 'Nighthawks', 'Nighthawks', 'Nighthawks', 'Dragoons', 'Dragoons', 'Dragoons', 'Dragoons', 'Scouts', 'Scouts', 'Scouts', 'Scouts'],\n",
    "            'company': ['1st', '1st', '2nd', '2nd', '1st', '1st', '2nd', '2nd','1st', '1st', '2nd', '2nd'],\n",
    "            'deaths': [523, 52, 25, 616, 43, 234, 523, 62, 62, 73, 37, 35],\n",
    "            'battles': [5, 42, 2, 2, 4, 7, 8, 3, 4, 7, 8, 9],\n",
    "            'size': [1045, 957, 1099, 1400, 1592, 1006, 987, 849, 973, 1005, 1099, 1523],\n",
    "            'veterans': [1, 5, 62, 26, 73, 37, 949, 48, 48, 435, 63, 345],\n",
    "            'readiness': [1, 2, 3, 3, 2, 1, 2, 3, 2, 1, 2, 3],\n",
    "            'armored': [1, 0, 1, 1, 0, 1, 0, 1, 0, 0, 1, 1],\n",
    "            'deserters': [4, 24, 31, 2, 3, 4, 24, 31, 2, 3, 2, 3],\n",
    "            'origin': ['Arizona', 'California', 'Texas', 'Florida', 'Maine', 'Iowa', 'Alaska', 'Washington', 'Oregon', 'Wyoming', 'Louisana', 'Georgia']}"
   ]
  },
  {
   "cell_type": "markdown",
   "metadata": {},
   "source": [
    "### Step 3. Create a dataframe and assign it to a variable called army. \n",
    "\n",
    "#### Don't forget to include the columns names in the order presented in the dictionary ('regiment', 'company', 'deaths'...) so that the column index order is consistent with the solutions. If omitted, pandas will order the columns alphabetically."
   ]
  },
  {
   "cell_type": "code",
   "execution_count": null,
   "metadata": {},
   "outputs": [],
   "source": []
  },
  {
   "cell_type": "markdown",
   "metadata": {},
   "source": [
    "### Step 4. Set the 'origin' colum as the index of the dataframe"
   ]
  },
  {
   "cell_type": "code",
   "execution_count": null,
   "metadata": {},
   "outputs": [],
   "source": []
  },
  {
   "cell_type": "markdown",
   "metadata": {},
   "source": [
    "### Step 5. Print only the column veterans"
   ]
  },
  {
   "cell_type": "code",
   "execution_count": null,
   "metadata": {},
   "outputs": [],
   "source": []
  },
  {
   "cell_type": "markdown",
   "metadata": {},
   "source": [
    "### Step 6. Print the columns 'veterans' and 'deaths'"
   ]
  },
  {
   "cell_type": "code",
   "execution_count": null,
   "metadata": {},
   "outputs": [],
   "source": []
  },
  {
   "cell_type": "markdown",
   "metadata": {},
   "source": [
    "### Step 7. Print the name of all the columns."
   ]
  },
  {
   "cell_type": "code",
   "execution_count": null,
   "metadata": {},
   "outputs": [],
   "source": []
  },
  {
   "cell_type": "markdown",
   "metadata": {},
   "source": [
    "### Step 8. Select the 'deaths', 'size' and 'deserters' columns from Maine and Alaska"
   ]
  },
  {
   "cell_type": "code",
   "execution_count": null,
   "metadata": {},
   "outputs": [],
   "source": []
  },
  {
   "cell_type": "markdown",
   "metadata": {},
   "source": [
    "### Step 9. Select the rows 3 to 7 and the columns 3 to 6"
   ]
  },
  {
   "cell_type": "code",
   "execution_count": null,
   "metadata": {},
   "outputs": [],
   "source": []
  },
  {
   "cell_type": "markdown",
   "metadata": {},
   "source": [
    "### Step 10. Select every row after the fourth row and all columns"
   ]
  },
  {
   "cell_type": "code",
   "execution_count": null,
   "metadata": {},
   "outputs": [],
   "source": []
  },
  {
   "cell_type": "markdown",
   "metadata": {},
   "source": [
    "### Step 11. Select every row up to the 4th row and all columns"
   ]
  },
  {
   "cell_type": "code",
   "execution_count": null,
   "metadata": {},
   "outputs": [],
   "source": []
  },
  {
   "cell_type": "markdown",
   "metadata": {},
   "source": [
    "### Step 12. Select the 3rd column up to the 7th column"
   ]
  },
  {
   "cell_type": "code",
   "execution_count": null,
   "metadata": {},
   "outputs": [],
   "source": []
  },
  {
   "cell_type": "markdown",
   "metadata": {},
   "source": [
    "### Step 13. Select rows where df.deaths is greater than 50"
   ]
  },
  {
   "cell_type": "code",
   "execution_count": null,
   "metadata": {},
   "outputs": [],
   "source": []
  },
  {
   "cell_type": "markdown",
   "metadata": {},
   "source": [
    "### Step 14. Select rows where df.deaths is greater than 500 or less than 50"
   ]
  },
  {
   "cell_type": "code",
   "execution_count": null,
   "metadata": {},
   "outputs": [],
   "source": []
  },
  {
   "cell_type": "markdown",
   "metadata": {},
   "source": [
    "### Step 15. Select all the regiments not named \"Dragoons\""
   ]
  },
  {
   "cell_type": "code",
   "execution_count": null,
   "metadata": {},
   "outputs": [],
   "source": []
  },
  {
   "cell_type": "markdown",
   "metadata": {},
   "source": [
    "### Step 16. Select the rows called Texas and Arizona"
   ]
  },
  {
   "cell_type": "code",
   "execution_count": null,
   "metadata": {},
   "outputs": [],
   "source": []
  },
  {
   "cell_type": "markdown",
   "metadata": {},
   "source": [
    "### Step 17. Select the third cell in the row named Arizona"
   ]
  },
  {
   "cell_type": "code",
   "execution_count": null,
   "metadata": {},
   "outputs": [],
   "source": []
  },
  {
   "cell_type": "markdown",
   "metadata": {},
   "source": [
    "### Step 18. Select the third cell down in the column named deaths"
   ]
  },
  {
   "cell_type": "code",
   "execution_count": 1,
   "metadata": {},
   "outputs": [],
   "source": [
    "# Step 1: Import necessary libraries\n",
    "import pandas as pd\n",
    "\n",
    "# Step 2: Create the raw data dictionary\n",
    "raw_data = {\n",
    "    'regiment': ['Nighthawks', 'Nighthawks', 'Nighthawks', 'Nighthawks', 'Dragoons', 'Dragoons', 'Dragoons', 'Dragoons', 'Scouts', 'Scouts', 'Scouts', 'Scouts'],\n",
    "    'company': ['1st', '1st', '2nd', '2nd', '1st', '1st', '2nd', '2nd','1st', '1st', '2nd', '2nd'],\n",
    "    'deaths': [523, 52, 25, 616, 43, 234, 523, 62, 62, 73, 37, 35],\n",
    "    'battles': [5, 42, 2, 2, 4, 7, 8, 3, 4, 7, 8, 9],\n",
    "    'size': [1045, 957, 1099, 1400, 1592, 1006, 987, 849, 973, 1005, 1099, 1523],\n",
    "    'veterans': [1, 5, 62, 26, 73, 37, 949, 48, 48, 435, 63, 345],\n",
    "    'readiness': [1, 2, 3, 3, 2, 1, 2, 3, 2, 1, 2, 3],\n",
    "    'armored': [1, 0, 1, 1, 0, 1, 0, 1, 0, 0, 1, 1],\n",
    "    'deserters': [4, 24, 31, 2, 3, 4, 24, 31, 2, 3, 2, 3],\n",
    "    'origin': ['Arizona', 'California', 'Texas', 'Florida', 'Maine', 'Iowa', 'Alaska', 'Washington', 'Oregon', 'Wyoming', 'Louisana', 'Georgia']\n",
    "}\n",
    "\n",
    "# Step 3: Create DataFrame\n",
    "army = pd.DataFrame(raw_data, columns=[\n",
    "    'regiment', 'company', 'deaths', 'battles', 'size',\n",
    "    'veterans', 'readiness', 'armored', 'deserters', 'origin'\n",
    "])"
   ]
  },
  {
   "cell_type": "code",
   "execution_count": 2,
   "metadata": {},
   "outputs": [
    {
     "name": "stdout",
     "output_type": "stream",
     "text": [
      "Step 5: veterans column\n",
      " origin\n",
      "Arizona         1\n",
      "California      5\n",
      "Texas          62\n",
      "Florida        26\n",
      "Maine          73\n",
      "Iowa           37\n",
      "Alaska        949\n",
      "Washington     48\n",
      "Oregon         48\n",
      "Wyoming       435\n",
      "Louisana       63\n",
      "Georgia       345\n",
      "Name: veterans, dtype: int64\n",
      "\n",
      "Step 6: veterans and deaths columns\n",
      "             veterans  deaths\n",
      "origin                      \n",
      "Arizona            1     523\n",
      "California         5      52\n",
      "Texas             62      25\n",
      "Florida           26     616\n",
      "Maine             73      43\n",
      "Iowa              37     234\n",
      "Alaska           949     523\n",
      "Washington        48      62\n",
      "Oregon            48      62\n",
      "Wyoming          435      73\n",
      "Louisana          63      37\n",
      "Georgia          345      35\n",
      "\n",
      "Step 7: Column names\n",
      " ['regiment', 'company', 'deaths', 'battles', 'size', 'veterans', 'readiness', 'armored', 'deserters']\n"
     ]
    }
   ],
   "source": [
    "# Step 4: Set 'origin' as index\n",
    "army.set_index('origin', inplace=True)\n",
    "\n",
    "# Step 5: Print only the 'veterans' column\n",
    "print(\"Step 5: veterans column\\n\", army['veterans'])\n",
    "\n",
    "# Step 6: Print 'veterans' and 'deaths'\n",
    "print(\"\\nStep 6: veterans and deaths columns\\n\", army[['veterans', 'deaths']])\n",
    "\n",
    "# Step 7: Print names of all columns\n",
    "print(\"\\nStep 7: Column names\\n\", army.columns.tolist())"
   ]
  },
  {
   "cell_type": "code",
   "execution_count": 3,
   "metadata": {},
   "outputs": [
    {
     "name": "stdout",
     "output_type": "stream",
     "text": [
      "\n",
      "Step 8: Maine & Alaska (deaths, size, deserters)\n",
      "         deaths  size  deserters\n",
      "origin                         \n",
      "Maine       43  1592          3\n",
      "Alaska     523   987         24\n",
      "\n",
      "Step 9: Rows 3-7, Columns 3-6\n",
      "             battles  size  veterans  readiness\n",
      "origin                                        \n",
      "Florida           2  1400        26          3\n",
      "Maine             4  1592        73          2\n",
      "Iowa              7  1006        37          1\n",
      "Alaska            8   987       949          2\n",
      "Washington        3   849        48          3\n"
     ]
    }
   ],
   "source": [
    "# Step 8: Select 'deaths', 'size', 'deserters' from Maine and Alaska\n",
    "print(\"\\nStep 8: Maine & Alaska (deaths, size, deserters)\\n\", army.loc[['Maine', 'Alaska'], ['deaths', 'size', 'deserters']])\n",
    "\n",
    "# Step 9: Rows 3 to 7 and columns 3 to 6\n",
    "print(\"\\nStep 9: Rows 3-7, Columns 3-6\\n\", army.iloc[3:8, 3:7])\n"
   ]
  },
  {
   "cell_type": "code",
   "execution_count": 4,
   "metadata": {},
   "outputs": [
    {
     "name": "stdout",
     "output_type": "stream",
     "text": [
      "\n",
      "Step 10: Rows after the 4th\n",
      "             regiment company  deaths  battles  size  veterans  readiness  \\\n",
      "origin                                                                     \n",
      "Maine       Dragoons     1st      43        4  1592        73          2   \n",
      "Iowa        Dragoons     1st     234        7  1006        37          1   \n",
      "Alaska      Dragoons     2nd     523        8   987       949          2   \n",
      "Washington  Dragoons     2nd      62        3   849        48          3   \n",
      "Oregon        Scouts     1st      62        4   973        48          2   \n",
      "Wyoming       Scouts     1st      73        7  1005       435          1   \n",
      "Louisana      Scouts     2nd      37        8  1099        63          2   \n",
      "Georgia       Scouts     2nd      35        9  1523       345          3   \n",
      "\n",
      "            armored  deserters  \n",
      "origin                          \n",
      "Maine             0          3  \n",
      "Iowa              1          4  \n",
      "Alaska            0         24  \n",
      "Washington        1         31  \n",
      "Oregon            0          2  \n",
      "Wyoming           0          3  \n",
      "Louisana          1          2  \n",
      "Georgia           1          3  \n",
      "\n",
      "Step 11: Rows up to 4th\n",
      "               regiment company  deaths  battles  size  veterans  readiness  \\\n",
      "origin                                                                       \n",
      "Arizona     Nighthawks     1st     523        5  1045         1          1   \n",
      "California  Nighthawks     1st      52       42   957         5          2   \n",
      "Texas       Nighthawks     2nd      25        2  1099        62          3   \n",
      "Florida     Nighthawks     2nd     616        2  1400        26          3   \n",
      "\n",
      "            armored  deserters  \n",
      "origin                          \n",
      "Arizona           1          4  \n",
      "California        0         24  \n",
      "Texas             1         31  \n",
      "Florida           1          2  \n",
      "\n",
      "Step 12: Columns 3rd to 7th\n",
      "             deaths  battles  size  veterans  readiness\n",
      "origin                                                \n",
      "Arizona        523        5  1045         1          1\n",
      "California      52       42   957         5          2\n",
      "Texas           25        2  1099        62          3\n",
      "Florida        616        2  1400        26          3\n",
      "Maine           43        4  1592        73          2\n",
      "Iowa           234        7  1006        37          1\n",
      "Alaska         523        8   987       949          2\n",
      "Washington      62        3   849        48          3\n",
      "Oregon          62        4   973        48          2\n",
      "Wyoming         73        7  1005       435          1\n",
      "Louisana        37        8  1099        63          2\n",
      "Georgia         35        9  1523       345          3\n",
      "\n",
      "Step 13: deaths > 50\n",
      "               regiment company  deaths  battles  size  veterans  readiness  \\\n",
      "origin                                                                       \n",
      "Arizona     Nighthawks     1st     523        5  1045         1          1   \n",
      "California  Nighthawks     1st      52       42   957         5          2   \n",
      "Florida     Nighthawks     2nd     616        2  1400        26          3   \n",
      "Iowa          Dragoons     1st     234        7  1006        37          1   \n",
      "Alaska        Dragoons     2nd     523        8   987       949          2   \n",
      "Washington    Dragoons     2nd      62        3   849        48          3   \n",
      "Oregon          Scouts     1st      62        4   973        48          2   \n",
      "Wyoming         Scouts     1st      73        7  1005       435          1   \n",
      "\n",
      "            armored  deserters  \n",
      "origin                          \n",
      "Arizona           1          4  \n",
      "California        0         24  \n",
      "Florida           1          2  \n",
      "Iowa              1          4  \n",
      "Alaska            0         24  \n",
      "Washington        1         31  \n",
      "Oregon            0          2  \n",
      "Wyoming           0          3  \n"
     ]
    }
   ],
   "source": [
    "# Step 10: Every row after 4th and all columns\n",
    "print(\"\\nStep 10: Rows after the 4th\\n\", army.iloc[4:])\n",
    "\n",
    "# Step 11: Every row up to 4th and all columns\n",
    "print(\"\\nStep 11: Rows up to 4th\\n\", army.iloc[:4])\n",
    "\n",
    "# Step 12: Columns 3rd to 7th\n",
    "print(\"\\nStep 12: Columns 3rd to 7th\\n\", army.iloc[:, 2:7])\n",
    "\n",
    "# Step 13: Rows where deaths > 50\n",
    "print(\"\\nStep 13: deaths > 50\\n\", army[army['deaths'] > 50])"
   ]
  },
  {
   "cell_type": "code",
   "execution_count": 5,
   "metadata": {},
   "outputs": [
    {
     "name": "stdout",
     "output_type": "stream",
     "text": [
      "\n",
      "Step 14: deaths > 500 or < 50\n",
      "             regiment company  deaths  battles  size  veterans  readiness  \\\n",
      "origin                                                                     \n",
      "Arizona   Nighthawks     1st     523        5  1045         1          1   \n",
      "Texas     Nighthawks     2nd      25        2  1099        62          3   \n",
      "Florida   Nighthawks     2nd     616        2  1400        26          3   \n",
      "Maine       Dragoons     1st      43        4  1592        73          2   \n",
      "Alaska      Dragoons     2nd     523        8   987       949          2   \n",
      "Louisana      Scouts     2nd      37        8  1099        63          2   \n",
      "Georgia       Scouts     2nd      35        9  1523       345          3   \n",
      "\n",
      "          armored  deserters  \n",
      "origin                        \n",
      "Arizona         1          4  \n",
      "Texas           1         31  \n",
      "Florida         1          2  \n",
      "Maine           0          3  \n",
      "Alaska          0         24  \n",
      "Louisana        1          2  \n",
      "Georgia         1          3  \n",
      "\n",
      "Step 15: Regiments not 'Dragoons'\n",
      "               regiment company  deaths  battles  size  veterans  readiness  \\\n",
      "origin                                                                       \n",
      "Arizona     Nighthawks     1st     523        5  1045         1          1   \n",
      "California  Nighthawks     1st      52       42   957         5          2   \n",
      "Texas       Nighthawks     2nd      25        2  1099        62          3   \n",
      "Florida     Nighthawks     2nd     616        2  1400        26          3   \n",
      "Oregon          Scouts     1st      62        4   973        48          2   \n",
      "Wyoming         Scouts     1st      73        7  1005       435          1   \n",
      "Louisana        Scouts     2nd      37        8  1099        63          2   \n",
      "Georgia         Scouts     2nd      35        9  1523       345          3   \n",
      "\n",
      "            armored  deserters  \n",
      "origin                          \n",
      "Arizona           1          4  \n",
      "California        0         24  \n",
      "Texas             1         31  \n",
      "Florida           1          2  \n",
      "Oregon            0          2  \n",
      "Wyoming           0          3  \n",
      "Louisana          1          2  \n",
      "Georgia           1          3  \n",
      "\n",
      "Step 16: Texas and Arizona\n",
      "            regiment company  deaths  battles  size  veterans  readiness  \\\n",
      "origin                                                                    \n",
      "Texas    Nighthawks     2nd      25        2  1099        62          3   \n",
      "Arizona  Nighthawks     1st     523        5  1045         1          1   \n",
      "\n",
      "         armored  deserters  \n",
      "origin                       \n",
      "Texas          1         31  \n",
      "Arizona        1          4  \n"
     ]
    }
   ],
   "source": [
    "# Step 14: deaths > 500 or < 50\n",
    "print(\"\\nStep 14: deaths > 500 or < 50\\n\", army[(army['deaths'] > 500) | (army['deaths'] < 50)])\n",
    "\n",
    "# Step 15: All regiments not named \"Dragoons\"\n",
    "print(\"\\nStep 15: Regiments not 'Dragoons'\\n\", army[army['regiment'] != 'Dragoons'])\n",
    "\n",
    "# Step 16: Rows for Texas and Arizona\n",
    "print(\"\\nStep 16: Texas and Arizona\\n\", army.loc[['Texas', 'Arizona']])"
   ]
  },
  {
   "cell_type": "code",
   "execution_count": 6,
   "metadata": {},
   "outputs": [
    {
     "name": "stdout",
     "output_type": "stream",
     "text": [
      "\n",
      "Step 17: 3rd cell in Arizona row\n",
      " 523\n",
      "\n",
      "Step 18: 3rd cell in deaths column\n",
      " 25\n"
     ]
    }
   ],
   "source": [
    "# Step 17: 3rd cell in row named 'Arizona'\n",
    "print(\"\\nStep 17: 3rd cell in Arizona row\\n\", army.loc['Arizona'].iloc[2])\n",
    "\n",
    "# Step 18: 3rd cell down in 'deaths' column\n",
    "print(\"\\nStep 18: 3rd cell in deaths column\\n\", army['deaths'].iloc[2])"
   ]
  }
 ],
 "metadata": {
  "kernelspec": {
   "display_name": "venv",
   "language": "python",
   "name": "python3"
  },
  "language_info": {
   "codemirror_mode": {
    "name": "ipython",
    "version": 3
   },
   "file_extension": ".py",
   "mimetype": "text/x-python",
   "name": "python",
   "nbconvert_exporter": "python",
   "pygments_lexer": "ipython3",
   "version": "3.13.3"
  }
 },
 "nbformat": 4,
 "nbformat_minor": 1
}
